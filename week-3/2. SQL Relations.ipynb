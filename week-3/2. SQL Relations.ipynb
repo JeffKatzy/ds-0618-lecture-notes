{
 "cells": [
  {
   "cell_type": "markdown",
   "metadata": {},
   "source": [
    "### SQL Relations"
   ]
  },
  {
   "cell_type": "markdown",
   "metadata": {},
   "source": [
    "Authors \n",
    "id | name     \n",
    "1     'mark twain' \n",
    "2     'jhumpa lahiri' \n",
    "\n",
    "Books \n",
    "id |   title          |   author_id    |    \n",
    "1 | 'tom sawyer'| 1                     | id 1 | 'mark twain'\n",
    "2 | 'the god of small things'| 2         |  2   | 'jumpa lahiri'\n",
    "3 | 'prince and the pauper'| 1           | 1     | 'mark twain'\n",
    "\n",
    "* What author wrote tom sawyer"
   ]
  },
  {
   "cell_type": "code",
   "execution_count": null,
   "metadata": {},
   "outputs": [],
   "source": [
    "# get the author id from the books table\n",
    "author_id = cursor.execute(\"SELECT author_id FROM books where title = 'Tom Sawyer'\")\n",
    "# 1\n",
    "\"SELECT books.title, authors.name from books join authors ON \n",
    "\"books.author_id = authors.id where title = 'Tom Sawyer'\"\n",
    "\n",
    "cursor.execute(\"SELECT NAME from authors where author_id = ?\", [author_id])"
   ]
  },
  {
   "cell_type": "code",
   "execution_count": 1,
   "metadata": {},
   "outputs": [],
   "source": [
    "import sqlite3\n"
   ]
  },
  {
   "cell_type": "code",
   "execution_count": 4,
   "metadata": {},
   "outputs": [
    {
     "data": {
      "text/plain": [
       "[(1, 'bart simpson', 'springfield', 2008),\n",
       " (2, 'maggie simpson', 'milwaukee', 2016),\n",
       " (3, 'lisa simpson', 'philly', 2006),\n",
       " (4, 'bart simpson', 'springfield', 2008),\n",
       " (5, 'maggie simpson', 'milwaukee', 2016),\n",
       " (6, 'lisa simpson', 'philly', 2006),\n",
       " (7, 'bart simpson', 'springfield', 2008),\n",
       " (8, 'maggie simpson', 'milwaukee', 2016),\n",
       " (9, 'lisa simpson', 'philly', 2006),\n",
       " (10, 'bart simpson', 'springfield', 2008),\n",
       " (11, 'maggie simpson', 'milwaukee', 2016),\n",
       " (12, 'lisa simpson', 'philly', 2006)]"
      ]
     },
     "execution_count": 4,
     "metadata": {},
     "output_type": "execute_result"
    }
   ],
   "source": [
    "conn = sqlite3.connect('bar.db')\n",
    "cursor = conn.cursor()\n",
    "\n",
    "cursor.execute('select * from customers')\n",
    "\n",
    "cursor.fetchall()"
   ]
  },
  {
   "cell_type": "code",
   "execution_count": null,
   "metadata": {},
   "outputs": [],
   "source": []
  }
 ],
 "metadata": {
  "kernelspec": {
   "display_name": "Python 3",
   "language": "python",
   "name": "python3"
  },
  "language_info": {
   "codemirror_mode": {
    "name": "ipython",
    "version": 3
   },
   "file_extension": ".py",
   "mimetype": "text/x-python",
   "name": "python",
   "nbconvert_exporter": "python",
   "pygments_lexer": "ipython3",
   "version": "3.5.5"
  }
 },
 "nbformat": 4,
 "nbformat_minor": 2
}
