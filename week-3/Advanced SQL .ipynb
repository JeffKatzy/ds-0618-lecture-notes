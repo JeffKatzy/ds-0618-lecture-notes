{
 "cells": [
  {
   "cell_type": "code",
   "execution_count": 112,
   "metadata": {},
   "outputs": [
    {
     "data": {
      "text/plain": [
       "'\\n    WITH city_restaurants AS \\n        (\\n            SELECT city, AVG(rating) as average_city_rating, count(*) as number_of_restaurants FROM RESTAURANTS GROUP BY city\\n        )\\n    SELECT city, number_of_restaurants, max(average_city_rating) from city_restaurants where number_of_restaurants > 20;\\n'"
      ]
     },
     "execution_count": 112,
     "metadata": {},
     "output_type": "execute_result"
    }
   ],
   "source": [
    "sql = \"\"\"\n",
    "    WITH city_restaurants AS \n",
    "        (\n",
    "            SELECT city, AVG(rating) as average_city_rating, count(*) as number_of_restaurants FROM RESTAURANTS GROUP BY city\n",
    "        )\n",
    "    SELECT city, number_of_restaurants, max(average_city_rating) from city_restaurants where number_of_restaurants > 20;\n",
    "\"\"\"\n",
    "sql"
   ]
  },
  {
   "cell_type": "markdown",
   "metadata": {},
   "source": [
    "### CTEs"
   ]
  },
  {
   "cell_type": "code",
   "execution_count": 87,
   "metadata": {},
   "outputs": [],
   "source": [
    "import psycopg2"
   ]
  },
  {
   "cell_type": "code",
   "execution_count": 113,
   "metadata": {},
   "outputs": [],
   "source": [
    "conn = psycopg2.connect(database=\"bartender\", host=\"localhost\")"
   ]
  },
  {
   "cell_type": "code",
   "execution_count": 114,
   "metadata": {},
   "outputs": [],
   "source": [
    "cursor = conn.cursor()"
   ]
  },
  {
   "cell_type": "code",
   "execution_count": 117,
   "metadata": {},
   "outputs": [],
   "source": [
    "seed = open(\"./bartender.sql\", \"r\")\n",
    "sql = seed.read()"
   ]
  },
  {
   "cell_type": "code",
   "execution_count": 91,
   "metadata": {},
   "outputs": [],
   "source": [
    "cursor.execute(sql)"
   ]
  },
  {
   "cell_type": "code",
   "execution_count": 93,
   "metadata": {},
   "outputs": [],
   "source": [
    "conn.commit()"
   ]
  },
  {
   "cell_type": "code",
   "execution_count": 118,
   "metadata": {},
   "outputs": [],
   "source": [
    "conn.close()"
   ]
  },
  {
   "cell_type": "code",
   "execution_count": 119,
   "metadata": {},
   "outputs": [],
   "source": [
    "conn = psycopg2.connect(database=\"bartender\", host=\"localhost\")"
   ]
  },
  {
   "cell_type": "code",
   "execution_count": 120,
   "metadata": {},
   "outputs": [],
   "source": [
    "cursor =conn.cursor()"
   ]
  },
  {
   "cell_type": "code",
   "execution_count": 123,
   "metadata": {},
   "outputs": [],
   "source": [
    "cursor.execute('select * from drinks;')"
   ]
  },
  {
   "cell_type": "code",
   "execution_count": 124,
   "metadata": {},
   "outputs": [
    {
     "data": {
      "text/plain": [
       "[(1, 'egg cream soda', 80, 3, 0),\n",
       " (2, 'milkshake', 300, 5, 0),\n",
       " (3, 'rootbeer', 180, 6, 0),\n",
       " (4, 'ice cream float', 250, 8, 0),\n",
       " (5, 'duff beer', 200, 7, 1),\n",
       " (6, 'gin and tonic', 200, 7, 1)]"
      ]
     },
     "execution_count": 124,
     "metadata": {},
     "output_type": "execute_result"
    }
   ],
   "source": [
    "cursor.fetchall()"
   ]
  },
  {
   "cell_type": "code",
   "execution_count": 125,
   "metadata": {},
   "outputs": [],
   "source": [
    "cursor.execute('select * from orders;')"
   ]
  },
  {
   "cell_type": "code",
   "execution_count": 126,
   "metadata": {},
   "outputs": [
    {
     "data": {
      "text/plain": [
       "[(1, 1, 1, 1),\n",
       " (2, 1, 1, 1),\n",
       " (3, 2, 5, 2),\n",
       " (4, 2, 5, 1),\n",
       " (5, 2, 5, 1),\n",
       " (6, 3, 6, 3),\n",
       " (7, 1, 2, 1),\n",
       " (8, 2, 3, 2),\n",
       " (9, 3, 4, 3)]"
      ]
     },
     "execution_count": 126,
     "metadata": {},
     "output_type": "execute_result"
    }
   ],
   "source": [
    "cursor.fetchall()"
   ]
  },
  {
   "cell_type": "code",
   "execution_count": 150,
   "metadata": {},
   "outputs": [],
   "source": [
    "sql = \"\"\"\n",
    "SELECT customer_id FROM orders;\n",
    "\"\"\""
   ]
  },
  {
   "cell_type": "code",
   "execution_count": 152,
   "metadata": {},
   "outputs": [],
   "source": [
    "conn.close()"
   ]
  },
  {
   "cell_type": "code",
   "execution_count": 153,
   "metadata": {},
   "outputs": [],
   "source": [
    "conn = psycopg2.connect(database=\"bartender\", host=\"localhost\")"
   ]
  },
  {
   "cell_type": "code",
   "execution_count": 154,
   "metadata": {},
   "outputs": [],
   "source": [
    "cursor = conn.cursor()"
   ]
  },
  {
   "cell_type": "code",
   "execution_count": 161,
   "metadata": {},
   "outputs": [],
   "source": [
    "cursor.execute(\"SELECT *, COUNT(*) OVER(PARTITION BY customer_id) as number_of_orders_per_customer from orders;\")"
   ]
  },
  {
   "cell_type": "code",
   "execution_count": 162,
   "metadata": {},
   "outputs": [
    {
     "data": {
      "text/plain": [
       "[(2, 1, 1, 1, 3),\n",
       " (1, 1, 1, 1, 3),\n",
       " (7, 1, 2, 1, 3),\n",
       " (5, 2, 5, 1, 4),\n",
       " (3, 2, 5, 2, 4),\n",
       " (4, 2, 5, 1, 4),\n",
       " (8, 2, 3, 2, 4),\n",
       " (9, 3, 4, 3, 2),\n",
       " (6, 3, 6, 3, 2)]"
      ]
     },
     "execution_count": 162,
     "metadata": {},
     "output_type": "execute_result"
    }
   ],
   "source": [
    "cursor.fetchall()"
   ]
  },
  {
   "cell_type": "code",
   "execution_count": 157,
   "metadata": {},
   "outputs": [],
   "source": [
    "cursor.execute(\"SELECT DISTINCT customer_id from orders;\")"
   ]
  },
  {
   "cell_type": "code",
   "execution_count": 158,
   "metadata": {},
   "outputs": [
    {
     "data": {
      "text/plain": [
       "[(3,), (2,), (1,)]"
      ]
     },
     "execution_count": 158,
     "metadata": {},
     "output_type": "execute_result"
    }
   ],
   "source": [
    "cursor.fetchall()"
   ]
  },
  {
   "cell_type": "code",
   "execution_count": null,
   "metadata": {},
   "outputs": [],
   "source": []
  }
 ],
 "metadata": {
  "kernelspec": {
   "display_name": "Python 3",
   "language": "python",
   "name": "python3"
  },
  "language_info": {
   "codemirror_mode": {
    "name": "ipython",
    "version": 3
   },
   "file_extension": ".py",
   "mimetype": "text/x-python",
   "name": "python",
   "nbconvert_exporter": "python",
   "pygments_lexer": "ipython3",
   "version": "3.5.5"
  }
 },
 "nbformat": 4,
 "nbformat_minor": 2
}
