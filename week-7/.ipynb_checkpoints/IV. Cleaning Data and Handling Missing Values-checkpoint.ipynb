{
 "cells": [
  {
   "cell_type": "code",
   "execution_count": 1,
   "metadata": {},
   "outputs": [],
   "source": [
    "import pandas as pd"
   ]
  },
  {
   "cell_type": "code",
   "execution_count": 12,
   "metadata": {},
   "outputs": [],
   "source": [
    "df = pd.read_csv('./resources/aquastat.csv')"
   ]
  },
  {
   "cell_type": "code",
   "execution_count": 13,
   "metadata": {},
   "outputs": [
    {
     "data": {
      "text/html": [
       "<div>\n",
       "<style scoped>\n",
       "    .dataframe tbody tr th:only-of-type {\n",
       "        vertical-align: middle;\n",
       "    }\n",
       "\n",
       "    .dataframe tbody tr th {\n",
       "        vertical-align: top;\n",
       "    }\n",
       "\n",
       "    .dataframe thead th {\n",
       "        text-align: right;\n",
       "    }\n",
       "</style>\n",
       "<table border=\"1\" class=\"dataframe\">\n",
       "  <thead>\n",
       "    <tr style=\"text-align: right;\">\n",
       "      <th></th>\n",
       "      <th>country</th>\n",
       "      <th>region</th>\n",
       "      <th>variable</th>\n",
       "      <th>variable_full</th>\n",
       "      <th>time_period</th>\n",
       "      <th>year_measured</th>\n",
       "      <th>value</th>\n",
       "    </tr>\n",
       "  </thead>\n",
       "  <tbody>\n",
       "    <tr>\n",
       "      <th>0</th>\n",
       "      <td>Afghanistan</td>\n",
       "      <td>World | Asia</td>\n",
       "      <td>total_area</td>\n",
       "      <td>Total area of the country (1000 ha)</td>\n",
       "      <td>1958-1962</td>\n",
       "      <td>1962.0</td>\n",
       "      <td>65286.0</td>\n",
       "    </tr>\n",
       "    <tr>\n",
       "      <th>1</th>\n",
       "      <td>Afghanistan</td>\n",
       "      <td>World | Asia</td>\n",
       "      <td>total_area</td>\n",
       "      <td>Total area of the country (1000 ha)</td>\n",
       "      <td>1963-1967</td>\n",
       "      <td>1967.0</td>\n",
       "      <td>65286.0</td>\n",
       "    </tr>\n",
       "    <tr>\n",
       "      <th>2</th>\n",
       "      <td>Afghanistan</td>\n",
       "      <td>World | Asia</td>\n",
       "      <td>total_area</td>\n",
       "      <td>Total area of the country (1000 ha)</td>\n",
       "      <td>1968-1972</td>\n",
       "      <td>1972.0</td>\n",
       "      <td>65286.0</td>\n",
       "    </tr>\n",
       "    <tr>\n",
       "      <th>3</th>\n",
       "      <td>Afghanistan</td>\n",
       "      <td>World | Asia</td>\n",
       "      <td>total_area</td>\n",
       "      <td>Total area of the country (1000 ha)</td>\n",
       "      <td>1973-1977</td>\n",
       "      <td>1977.0</td>\n",
       "      <td>65286.0</td>\n",
       "    </tr>\n",
       "    <tr>\n",
       "      <th>4</th>\n",
       "      <td>Afghanistan</td>\n",
       "      <td>World | Asia</td>\n",
       "      <td>total_area</td>\n",
       "      <td>Total area of the country (1000 ha)</td>\n",
       "      <td>1978-1982</td>\n",
       "      <td>1982.0</td>\n",
       "      <td>65286.0</td>\n",
       "    </tr>\n",
       "  </tbody>\n",
       "</table>\n",
       "</div>"
      ],
      "text/plain": [
       "       country        region    variable                        variable_full  \\\n",
       "0  Afghanistan  World | Asia  total_area  Total area of the country (1000 ha)   \n",
       "1  Afghanistan  World | Asia  total_area  Total area of the country (1000 ha)   \n",
       "2  Afghanistan  World | Asia  total_area  Total area of the country (1000 ha)   \n",
       "3  Afghanistan  World | Asia  total_area  Total area of the country (1000 ha)   \n",
       "4  Afghanistan  World | Asia  total_area  Total area of the country (1000 ha)   \n",
       "\n",
       "  time_period  year_measured    value  \n",
       "0   1958-1962         1962.0  65286.0  \n",
       "1   1963-1967         1967.0  65286.0  \n",
       "2   1968-1972         1972.0  65286.0  \n",
       "3   1973-1977         1977.0  65286.0  \n",
       "4   1978-1982         1982.0  65286.0  "
      ]
     },
     "execution_count": 13,
     "metadata": {},
     "output_type": "execute_result"
    }
   ],
   "source": [
    "df.head()"
   ]
  },
  {
   "cell_type": "markdown",
   "metadata": {},
   "source": [
    "### Data normalization "
   ]
  },
  {
   "cell_type": "markdown",
   "metadata": {},
   "source": [
    "Larger values will have more impact, so can normalize the values in data that range from zero to one\n",
    "\n",
    "(https://www.coursera.org/lecture/data-analysis-with-python/data-normalization-in-python-pqNBS)"
   ]
  }
 ],
 "metadata": {
  "kernelspec": {
   "display_name": "Python 3",
   "language": "python",
   "name": "python3"
  },
  "language_info": {
   "codemirror_mode": {
    "name": "ipython",
    "version": 3
   },
   "file_extension": ".py",
   "mimetype": "text/x-python",
   "name": "python",
   "nbconvert_exporter": "python",
   "pygments_lexer": "ipython3",
   "version": "3.5.5"
  }
 },
 "nbformat": 4,
 "nbformat_minor": 2
}
