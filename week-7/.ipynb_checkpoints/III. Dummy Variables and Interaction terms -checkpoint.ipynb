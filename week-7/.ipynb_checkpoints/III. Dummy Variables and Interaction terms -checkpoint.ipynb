{
 "cells": [
  {
   "cell_type": "markdown",
   "metadata": {},
   "source": [
    "### Dummy predictor variables \n",
    "\n",
    "Take a look at the following dataset.  What do we do with our non-numerical variables."
   ]
  },
  {
   "cell_type": "markdown",
   "metadata": {},
   "source": [
    "####  Dichotomous dummy variables \n",
    "\n",
    "Take on one of two variables.  And is 1 if a condition is met and 0 if it's not met.  \n",
    "\n",
    "* For example, if we have daily store data, we can place a variable for is it a holiday, or US or international.  OR male or female sales person."
   ]
  },
  {
   "cell_type": "markdown",
   "metadata": {},
   "source": [
    "So now our equation looks like: \n",
    "    \n",
    "$S = B0 + B1∙P + B2∙A + B3∙Sale + \\epsilon $"
   ]
  },
  {
   "cell_type": "markdown",
   "metadata": {},
   "source": [
    "* Notice that this is easy to interpret the results, and we just apply a rule that the regression coefficient tells us how much the dependent or target variable changes when the independent variable increases by one unit.  \n",
    "\n",
    "So here the coefficient is the amount that that sales increase when the value of summer increases by one unit.  Or a better way to think about it, it tells us how much more is sold in summer vs all of the other weeks, holding it constant."
   ]
  },
  {
   "cell_type": "markdown",
   "metadata": {},
   "source": [
    "#### Non-Dichotomous Variables\n",
    "\n",
    "Of course, oftentimes our world is not divided into binary groups.  \n",
    "\n",
    "For example, with seasons, we would have all four seasons.\n",
    "\n",
    "$ S = B0 + B1∙P + B2∙A + B3∙Summer + B4∙Spring + B5∙Winter + B6·Fall $\n",
    "\n",
    "* This measures the average sales in the corresponding season relative to the average sales in the omitted season\n",
    "\n",
    "* Now to compare different categories, recommmended method is to simply subtract the coefficients of the different categories."
   ]
  },
  {
   "cell_type": "markdown",
   "metadata": {},
   "source": [
    "* Then can use a significance test to see if the difference between summer and spring is significantly different."
   ]
  },
  {
   "cell_type": "markdown",
   "metadata": {},
   "source": [
    "#### Summary for categorical variables"
   ]
  },
  {
   "cell_type": "markdown",
   "metadata": {},
   "source": [
    "1. Create a dummy for each category\n",
    "2. If N categories, use N - 1 dummies in regression\n",
    "3. Coefficient on a dummy indicates the average value of the dependent variable vs the avg variable for the ommitted category.\n",
    "4. Compare effects of two categories by directly comparing the coefficients all else equal"
   ]
  },
  {
   "cell_type": "markdown",
   "metadata": {},
   "source": [
    "### Interactions and slope dummies"
   ]
  },
  {
   "cell_type": "markdown",
   "metadata": {},
   "source": [
    "* Suppose that the effect of advertising depends on the price level.  Perhaps advertising is more effective for higher priced products.  Or maybe are measuring effects of race and poverty.\n",
    "\n",
    "* To create an interaction variable, simply multiply the two predictors together.  \n",
    "\n",
    "* Eg. $Sales = B_0 + B_1*P + B_2A + B_3 (A *P) $\n",
    "\n"
   ]
  },
  {
   "cell_type": "markdown",
   "metadata": {},
   "source": [
    "#### Resources"
   ]
  },
  {
   "cell_type": "markdown",
   "metadata": {},
   "source": [
    "https://github.com/TheUpshot/world-cup-study\n",
    "\n",
    "https://www.nytimes.com/2014/06/11/upshot/world-cup-opinions-in-19-countries-likes-dislikes-predictions.html?hp"
   ]
  },
  {
   "cell_type": "markdown",
   "metadata": {},
   "source": [
    "[Dummy variables and Interactions](https://www.kellogg.northwestern.edu/faculty/dranove/htm/dranove/coursepages/Mgmt%20469/regression%20basics.pdf), special predictor variables"
   ]
  },
  {
   "cell_type": "code",
   "execution_count": null,
   "metadata": {},
   "outputs": [],
   "source": []
  }
 ],
 "metadata": {
  "kernelspec": {
   "display_name": "Python 3",
   "language": "python",
   "name": "python3"
  },
  "language_info": {
   "codemirror_mode": {
    "name": "ipython",
    "version": 3
   },
   "file_extension": ".py",
   "mimetype": "text/x-python",
   "name": "python",
   "nbconvert_exporter": "python",
   "pygments_lexer": "ipython3",
   "version": "3.5.5"
  }
 },
 "nbformat": 4,
 "nbformat_minor": 2
}
