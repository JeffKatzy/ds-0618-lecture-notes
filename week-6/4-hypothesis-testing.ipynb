{
 "cells": [
  {
   "cell_type": "markdown",
   "metadata": {},
   "source": [
    "## Experiments"
   ]
  },
  {
   "cell_type": "markdown",
   "metadata": {},
   "source": [
    "### Hypothesis Tests"
   ]
  },
  {
   "cell_type": "markdown",
   "metadata": {},
   "source": [
    "\n",
    "1. Establish null hypothesis\n",
    "2. Specify significance level\n",
    "3. Find critical value\n",
    "4. Calculate test statistic\n",
    "5. Make a conclusion about the Hypothesis\n"
   ]
  },
  {
   "cell_type": "markdown",
   "metadata": {},
   "source": [
    "### To NuBrain or Not To NuBrain\n",
    "Suppose Elon Musk develops a new neural implant device called NuBrain that is supposed to improve the analytical capabilities of those who install it. Seeing this as a great opportunity, DS 1.0 has it installed. Flatiron's entire student population got an average score on an assessment of 146. DS 1.0 has these scores on the assessment:\n",
    "\n",
    "[148, 153, 154, 159, 150, 162, 153, 156, 158, 146, 170, 142, 159]\n",
    "\n",
    "Was there a statistically significant improvement at the 0.05 level? Was it worth it to get the NuBrain implant?!"
   ]
  },
  {
   "cell_type": "markdown",
   "metadata": {},
   "source": [
    "1. Establish Null hypothesis\n",
    "\n",
    "$ H_{0}: \\mu = 146$\n",
    "\n",
    "$ H_{1}: \\mu > 146$"
   ]
  },
  {
   "cell_type": "markdown",
   "metadata": {},
   "source": [
    "$ H_{0}: \\mu ≤ 146$\n",
    "\n",
    "$ H_{1}: \\mu > 146$"
   ]
  },
  {
   "cell_type": "markdown",
   "metadata": {},
   "source": [
    "2. significance level\n",
    "\n",
    "$ \\alpha = 0.05$"
   ]
  },
  {
   "cell_type": "code",
   "execution_count": 35,
   "metadata": {},
   "outputs": [],
   "source": [
    "import scipy.stats as scs\n",
    "n = len([148, 153, 154, 159, 150, 162, 153, 156, 158, 146, 170, 142, 159])\n",
    "critical_value = scs.t.ppf(0.95,n-1)"
   ]
  },
  {
   "cell_type": "code",
   "execution_count": 36,
   "metadata": {},
   "outputs": [
    {
     "data": {
      "text/plain": [
       "1.782287555649159"
      ]
     },
     "execution_count": 36,
     "metadata": {},
     "output_type": "execute_result"
    }
   ],
   "source": [
    "##3. Find critical value\n",
    "critical_value"
   ]
  },
  {
   "cell_type": "code",
   "execution_count": 38,
   "metadata": {},
   "outputs": [],
   "source": [
    "x_bar = np.mean([148, 153, 154, 159, 150, 162, 153, 156, 158, 146, 170, 142, 159])\n",
    "std_dev = np.std([148, 153, 154, 159, 150, 162, 153, 156, 158, 146, 170, 142, 159],ddof = 1)\n",
    "mu = 146"
   ]
  },
  {
   "cell_type": "code",
   "execution_count": 39,
   "metadata": {},
   "outputs": [],
   "source": [
    "t = (x_bar - mu)/(std_dev/(n**0.5))"
   ]
  },
  {
   "cell_type": "code",
   "execution_count": 40,
   "metadata": {},
   "outputs": [
    {
     "data": {
      "text/plain": [
       "4.230181617762788"
      ]
     },
     "execution_count": 40,
     "metadata": {},
     "output_type": "execute_result"
    }
   ],
   "source": [
    "t\n",
    "# because the value is t, the value is t"
   ]
  },
  {
   "cell_type": "code",
   "execution_count": null,
   "metadata": {},
   "outputs": [],
   "source": [
    "# we reject the null hypothesis\n",
    "# we fail to reject the null hypothesis"
   ]
  },
  {
   "cell_type": "markdown",
   "metadata": {},
   "source": [
    "### Citi Bike Experiment"
   ]
  },
  {
   "cell_type": "markdown",
   "metadata": {},
   "source": [
    "The head of Citi Bike thinks that if the bikes are more comfortable, people will ride them for longer. Citi Bike randomly changes components in random locations and records the times for people in the Control group and Experimental component group. Determine if there is a significant difference between the Control seats and the new Experimental seats.\n",
    "\n",
    "control = [22, 29, 11,  9,  7, 23, 38, 23, 32, 24, 43, 15,  4,  2, 23,  5, 39,\n",
    "        1, 14, 26, 32, 34, 18,  5, 18,  3, 21, 35]\n",
    "\n",
    "experiment = [ 1,  3, 11, 13, 10, 24, 10,  9, 4, 39, 2, 10,  1,  5, 41, 33, 25,\n",
    "       19, 4,  29, 22, 4, 15, 43, 18, 52,  5, 19, 14, 31]"
   ]
  },
  {
   "cell_type": "markdown",
   "metadata": {},
   "source": [
    "## What's different about this problem?"
   ]
  },
  {
   "cell_type": "code",
   "execution_count": null,
   "metadata": {},
   "outputs": [],
   "source": [
    "\n",
    "\n",
    "\n",
    "\n",
    "\n",
    "\n",
    "\n",
    "\n",
    "\n",
    "\n",
    "\n",
    "\n",
    "\n"
   ]
  },
  {
   "cell_type": "markdown",
   "metadata": {},
   "source": [
    "$ \\ H_{0} : \\mu_{1} - \\mu_{2} = D_{0} $\n",
    "\n",
    "$ \\ H_{0} : \\mu_{1} - \\mu_{2} ≠ D_{0} $"
   ]
  },
  {
   "cell_type": "markdown",
   "metadata": {},
   "source": [
    "### If we assume equal variance and sample sizes"
   ]
  },
  {
   "cell_type": "markdown",
   "metadata": {},
   "source": [
    "<img src = \"./resources/equation167.svg\">"
   ]
  },
  {
   "cell_type": "markdown",
   "metadata": {},
   "source": [
    "$df = n_{1} + n_{2} - 2$"
   ]
  },
  {
   "cell_type": "markdown",
   "metadata": {},
   "source": [
    "### If you have different sample sizes, or the variances are different, you need to use Welch's T-test, which accounts for differences."
   ]
  },
  {
   "cell_type": "markdown",
   "metadata": {},
   "source": [
    "<img src = \"./resources/equation168.svg\">"
   ]
  },
  {
   "cell_type": "markdown",
   "metadata": {},
   "source": [
    "### Which one should we use?"
   ]
  },
  {
   "cell_type": "code",
   "execution_count": 196,
   "metadata": {},
   "outputs": [],
   "source": [
    "control = [22, 29, 11,  9,  7, 23, 38, 23, 32, 24, 43, 15,  4,  2, 23,  5, 39,\n",
    "        1, 14, 26, 32, 34, 18,  5, 18,  3, 21, 35]\n",
    "\n",
    "experiment = [ 1,  3, 11, 13, 10, 24, 10,  9, 4, 39, 2, 10,  1,  5, 41, 33, 25,\n",
    "       19, 4,  29, 22, 4, 15, 43, 18, 52,  5, 19, 14, 31]\n",
    "\n",
    "\n",
    "\n",
    "\n",
    "\n",
    "\n",
    "\n"
   ]
  },
  {
   "cell_type": "code",
   "execution_count": 113,
   "metadata": {},
   "outputs": [],
   "source": [
    "# State the null hypothesis\n"
   ]
  },
  {
   "cell_type": "code",
   "execution_count": 114,
   "metadata": {},
   "outputs": [
    {
     "data": {
      "text/plain": [
       "30"
      ]
     },
     "execution_count": 114,
     "metadata": {},
     "output_type": "execute_result"
    }
   ],
   "source": [
    "# Significance Level\n",
    "n"
   ]
  },
  {
   "cell_type": "code",
   "execution_count": 118,
   "metadata": {},
   "outputs": [],
   "source": [
    "# Critical Value\n",
    "n_e = \n",
    "n_c =\n",
    "var_e = \n",
    "var_c = \n",
    "std_err_e = \n",
    "std_err_c = \n",
    "\n",
    "\n",
    "df = ((std_err_e + std_err_c)**2)/((std_err_e**2)/(n_c-1)+ (std_err_c**2)/(n_e-1))"
   ]
  },
  {
   "cell_type": "code",
   "execution_count": 119,
   "metadata": {},
   "outputs": [],
   "source": []
  },
  {
   "cell_type": "code",
   "execution_count": 120,
   "metadata": {},
   "outputs": [
    {
     "data": {
      "text/plain": [
       "0.7630894135836362"
      ]
     },
     "execution_count": 120,
     "metadata": {},
     "output_type": "execute_result"
    }
   ],
   "source": [
    "# Calculate test statistic\n"
   ]
  },
  {
   "cell_type": "code",
   "execution_count": 121,
   "metadata": {},
   "outputs": [],
   "source": [
    "# Make conclusion about hypothesis\n"
   ]
  },
  {
   "cell_type": "markdown",
   "metadata": {},
   "source": [
    "## orrr make use of scipy and it's handy dandy methods"
   ]
  },
  {
   "cell_type": "code",
   "execution_count": 122,
   "metadata": {},
   "outputs": [
    {
     "data": {
      "text/plain": [
       "Ttest_indResult(statistic=0.7630894135836362, pvalue=0.4486196876448143)"
      ]
     },
     "execution_count": 122,
     "metadata": {},
     "output_type": "execute_result"
    }
   ],
   "source": [
    "\n"
   ]
  },
  {
   "cell_type": "code",
   "execution_count": null,
   "metadata": {},
   "outputs": [],
   "source": []
  },
  {
   "cell_type": "markdown",
   "metadata": {},
   "source": [
    "## Paired T-Test"
   ]
  },
  {
   "cell_type": "markdown",
   "metadata": {},
   "source": [
    "### The US olympic weightlifting team is trying out a new workout techniques to in an attempt to improve everyone's clean and jerk abilities. Below, we have  the team's results before and after the training program. Did the program have an effect on a 95% significance level?"
   ]
  },
  {
   "cell_type": "markdown",
   "metadata": {},
   "source": [
    "### What's different about this problem?"
   ]
  },
  {
   "cell_type": "code",
   "execution_count": null,
   "metadata": {},
   "outputs": [],
   "source": [
    "\n",
    "\n",
    "\n",
    "\n",
    "\n",
    "\n",
    "\n",
    "\n"
   ]
  },
  {
   "cell_type": "code",
   "execution_count": 5,
   "metadata": {},
   "outputs": [],
   "source": [
    "before = np.array([140,150,134,178, 125])\n",
    "\n",
    "after = np.array([145,150, 135,177, 138])"
   ]
  },
  {
   "cell_type": "markdown",
   "metadata": {},
   "source": [
    "1. State Hypothesis"
   ]
  },
  {
   "cell_type": "markdown",
   "metadata": {},
   "source": [
    "$ H_{0} : \\mu_{d}$ = 0\n",
    "\n",
    "$ H_{1} : \\mu_{d}$ ≠ 0"
   ]
  },
  {
   "cell_type": "code",
   "execution_count": 6,
   "metadata": {},
   "outputs": [],
   "source": [
    "difference = "
   ]
  },
  {
   "cell_type": "code",
   "execution_count": 9,
   "metadata": {},
   "outputs": [
    {
     "data": {
      "text/plain": [
       "5.727128425310542"
      ]
     },
     "execution_count": 9,
     "metadata": {},
     "output_type": "execute_result"
    }
   ],
   "source": [
    "difference.mean()\n",
    "difference.std(ddof=1)"
   ]
  },
  {
   "cell_type": "markdown",
   "metadata": {},
   "source": [
    "## $ t = \\frac{\\bar{x}_{d}}{SE_{d}}$"
   ]
  },
  {
   "cell_type": "markdown",
   "metadata": {},
   "source": [
    "## $ SE_{d} = \\frac{s_{d}}{\\sqrt{n}}$ "
   ]
  },
  {
   "cell_type": "markdown",
   "metadata": {},
   "source": [
    "$ \\bar{x}_{d}$ = \n",
    "\n",
    "$ s_{d}$ = "
   ]
  },
  {
   "cell_type": "code",
   "execution_count": 11,
   "metadata": {},
   "outputs": [
    {
     "data": {
      "text/plain": [
       "1.405595376113016"
      ]
     },
     "execution_count": 11,
     "metadata": {},
     "output_type": "execute_result"
    }
   ],
   "source": []
  },
  {
   "cell_type": "code",
   "execution_count": 16,
   "metadata": {},
   "outputs": [
    {
     "data": {
      "text/plain": [
       "2.13184678133629"
      ]
     },
     "execution_count": 16,
     "metadata": {},
     "output_type": "execute_result"
    }
   ],
   "source": []
  },
  {
   "cell_type": "code",
   "execution_count": 22,
   "metadata": {},
   "outputs": [
    {
     "data": {
      "text/plain": [
       "0.8837169701009978"
      ]
     },
     "execution_count": 22,
     "metadata": {},
     "output_type": "execute_result"
    }
   ],
   "source": []
  },
  {
   "cell_type": "code",
   "execution_count": 19,
   "metadata": {},
   "outputs": [
    {
     "data": {
      "text/plain": [
       "Ttest_relResult(statistic=-1.4055638569974545, pvalue=0.2325658241653782)"
      ]
     },
     "execution_count": 19,
     "metadata": {},
     "output_type": "execute_result"
    }
   ],
   "source": [
    "scipy.stats.ttest_rel(before, after)"
   ]
  },
  {
   "cell_type": "markdown",
   "metadata": {},
   "source": [
    "## AB Testing"
   ]
  },
  {
   "cell_type": "markdown",
   "metadata": {},
   "source": [
    "<img src = \"./resources/ab-testing.png\" width = 500>"
   ]
  },
  {
   "cell_type": "markdown",
   "metadata": {},
   "source": [
    "### Repeated hypothesis test to determine which version of something (website, app, advertisement) is most effective. \n",
    "### Suppose you were trying out 10 different website designs, and you wanted to see the ones that are effective at an $\\alpha$ of 0.01. \n",
    "#### * How should we approach this problem?\n",
    "#### * Do we foresee any issues?"
   ]
  },
  {
   "cell_type": "code",
   "execution_count": null,
   "metadata": {},
   "outputs": [],
   "source": [
    "\n",
    "\n",
    "\n",
    "\n",
    "\n",
    "\n",
    "\n",
    "\n",
    "\n",
    "\n",
    "\n"
   ]
  },
  {
   "cell_type": "markdown",
   "metadata": {},
   "source": [
    "### One solution is something called the Bonferonni correction. To correct for the additional worry of incorrectly rejecting a null hypothesis due to chance, we must reduce the size of $\\alpha$ by dividing it by the number of variations we are attempting and using that new alpha to determine the critical value that each difference must reach.\n",
    "\n",
    "## $\\frac{\\alpha}{m}$"
   ]
  },
  {
   "cell_type": "markdown",
   "metadata": {},
   "source": [
    "The blogs from DS 1.0 start getting so much traffic that we decide to monetize them by making a website with ads. Which layouts should we be interested in at the 95% significance level?\n",
    "* In our initial layout, 50 out of 3000 people clicked on ads\n",
    "* In variation 1, 70 out of 3000 people clicked\n",
    "* In variation 2, 46 out of 3000 people clicked\n",
    "* In variation 3, 90 out of 3000 people clicked\n",
    "* In variation 4, 120 out of 3000 people clicked\n",
    "\n",
    "*Hint: we should be able to use a two proportion z-test due to our large sample size"
   ]
  },
  {
   "cell_type": "code",
   "execution_count": 189,
   "metadata": {},
   "outputs": [],
   "source": [
    "control_mean = \n",
    "variation_0 = \n",
    "variation_1 = \n",
    "variation_2 = \n",
    "variation_3 = \n"
   ]
  },
  {
   "cell_type": "code",
   "execution_count": 190,
   "metadata": {},
   "outputs": [
    {
     "data": {
      "text/plain": [
       "0.9875"
      ]
     },
     "execution_count": 190,
     "metadata": {},
     "output_type": "execute_result"
    }
   ],
   "source": []
  },
  {
   "cell_type": "code",
   "execution_count": 191,
   "metadata": {},
   "outputs": [],
   "source": []
  },
  {
   "cell_type": "code",
   "execution_count": 192,
   "metadata": {},
   "outputs": [
    {
     "data": {
      "text/plain": [
       "1.959963984540054"
      ]
     },
     "execution_count": 192,
     "metadata": {},
     "output_type": "execute_result"
    }
   ],
   "source": []
  },
  {
   "cell_type": "code",
   "execution_count": 193,
   "metadata": {},
   "outputs": [
    {
     "data": {
      "text/plain": [
       "2.241402727604947"
      ]
     },
     "execution_count": 193,
     "metadata": {},
     "output_type": "execute_result"
    }
   ],
   "source": []
  },
  {
   "cell_type": "code",
   "execution_count": 194,
   "metadata": {},
   "outputs": [],
   "source": []
  },
  {
   "cell_type": "code",
   "execution_count": 195,
   "metadata": {},
   "outputs": [
    {
     "name": "stdout",
     "output_type": "stream",
     "text": [
      "variation: 0 has z value: 2.2041930232589295\n",
      "variation: 1 has z value: -0.4202632933767985\n",
      "variation: 2 has z value: 3.0271773945766656\n",
      "variation: 3 has z value: 4.6116549210788875\n"
     ]
    }
   ],
   "source": [
    "# variation: 0 has z value: 2.2041930232589295\n",
    "# variation: 1 has z value: -0.4202632933767985\n",
    "# variation: 2 has z value: 3.0271773945766656\n",
    "# variation: 3 has z value: 4.6116549210788875"
   ]
  },
  {
   "cell_type": "code",
   "execution_count": null,
   "metadata": {},
   "outputs": [],
   "source": []
  }
 ],
 "metadata": {
  "kernelspec": {
   "display_name": "Python 3",
   "language": "python",
   "name": "python3"
  },
  "language_info": {
   "codemirror_mode": {
    "name": "ipython",
    "version": 3
   },
   "file_extension": ".py",
   "mimetype": "text/x-python",
   "name": "python",
   "nbconvert_exporter": "python",
   "pygments_lexer": "ipython3",
   "version": "3.6.5"
  }
 },
 "nbformat": 4,
 "nbformat_minor": 2
}
