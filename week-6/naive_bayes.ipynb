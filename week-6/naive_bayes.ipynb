{
 "cells": [
  {
   "cell_type": "markdown",
   "metadata": {},
   "source": [
    "## Naive Bayes Classification"
   ]
  },
  {
   "cell_type": "markdown",
   "metadata": {},
   "source": [
    "Suppose we are using an API to gather articles from a news website and grabbing phrases from two different types of articles:  music and politics.\n",
    "\n",
    "We have a problem though! Only some of our articles have their category (music or politics). Is there a way we can use Machine Learning to help us label our data quickly?\n",
    "\n",
    "Let's start with one example phrase:\n",
    "\n",
    "\n",
    "#### \"world leaders agreed to fund the stadium\"\n",
    "\n",
    "How can we make a model that labels this for us rather than having to go through by hand?"
   ]
  },
  {
   "cell_type": "code",
   "execution_count": 163,
   "metadata": {},
   "outputs": [],
   "source": [
    "music = ['the song was popular',\n",
    "         'band leaders disagreed on sound',\n",
    "         'played for a sold out arena stadium']\n",
    "\n",
    "politics = ['world leaders met lask week',\n",
    "            'the election was close',\n",
    "            'the officials agreed on a compromise']\n",
    "test_statement = 'world leaders agreed to fund the stadium'"
   ]
  },
  {
   "cell_type": "markdown",
   "metadata": {},
   "source": [
    "\n",
    "\n",
    "#### $ P(politics | phrase) = \\frac{P(phrase|politics)P(politics)}{P(phrase)}$\n",
    "\n",
    "#### $ P(politics) = \\frac{ \\# politics}{\\# all\\ articles} $\n",
    "\n",
    "*where phrase is our test statement*"
   ]
  },
  {
   "cell_type": "markdown",
   "metadata": {},
   "source": [
    "<img src = \"./resources/solvingforyhat.png\" width= \"400\">"
   ]
  },
  {
   "cell_type": "markdown",
   "metadata": {},
   "source": [
    "<img src = \"./resources/solving_theta.png\" width=\"400\">"
   ]
  },
  {
   "cell_type": "markdown",
   "metadata": {},
   "source": [
    "### How should we calculate P(politics)?"
   ]
  },
  {
   "cell_type": "code",
   "execution_count": 152,
   "metadata": {},
   "outputs": [],
   "source": [
    "p_politics = len(politics)/(len(music)+len(politics))\n",
    "p_music = 1- p_politics"
   ]
  },
  {
   "cell_type": "markdown",
   "metadata": {},
   "source": [
    "### How do you think we should calculate: $ P(phrase | politics) $ ?"
   ]
  },
  {
   "cell_type": "code",
   "execution_count": null,
   "metadata": {},
   "outputs": [],
   "source": [
    "\n",
    "\n",
    "\n",
    "\n",
    "\n",
    "\n",
    "\n"
   ]
  },
  {
   "cell_type": "markdown",
   "metadata": {},
   "source": [
    "## $ P(phrase | politics) = \\prod_{i=1}^{d} P(word_{i} | politics) $"
   ]
  },
  {
   "cell_type": "markdown",
   "metadata": {},
   "source": [
    "### We need to make a *Naive* assumption."
   ]
  },
  {
   "cell_type": "code",
   "execution_count": null,
   "metadata": {},
   "outputs": [],
   "source": [
    "\n"
   ]
  },
  {
   "cell_type": "markdown",
   "metadata": {},
   "source": [
    "### $ P(word_{i} | politics) = \\frac{\\#\\ of\\ word_{i}\\ in\\ politics\\ art.} {\\#\\ of\\ total\\ words\\ in\\ politics\\ art.} $\n",
    "\n",
    "### Can you foresee any issues with this?"
   ]
  },
  {
   "cell_type": "code",
   "execution_count": null,
   "metadata": {},
   "outputs": [],
   "source": [
    "\n",
    "\n",
    "\n",
    "\n",
    "\n",
    "\n",
    "\n",
    "\n",
    "\n",
    "\n",
    "\n",
    "\n",
    "\n"
   ]
  },
  {
   "cell_type": "markdown",
   "metadata": {},
   "source": [
    "## $ P(word_{i} | politics) = \\frac{\\#\\ of\\ word_{i}\\ in\\ politics\\ art. + \\alpha} {\\#\\ of\\ total\\ words\\ in\\ politics\\ art. + \\alpha d} $"
   ]
  },
  {
   "cell_type": "markdown",
   "metadata": {},
   "source": [
    "This correction process is called Laplace smoothing:\n",
    "* d : number of features (in this instance total number of vocabulary words)\n",
    "* $\\alpha$ can be any number greater than 0 (it is usually 1)\n",
    "\n",
    "\n",
    "#### Now let's find this calculation"
   ]
  },
  {
   "cell_type": "code",
   "execution_count": 157,
   "metadata": {},
   "outputs": [],
   "source": [
    "\n",
    "def vocab_maker(category):\n",
    "    \"\"\"returns the vocabulary for a given type of article\"\"\"\n",
    "    vocab_category = set()\n",
    "    for art in category:\n",
    "        words = art.split()\n",
    "        for word in words:\n",
    "            vocab_category.add(word)\n",
    "    return vocab_category\n",
    "        \n",
    "voc_music = vocab_maker(music)\n",
    "voc_pol = vocab_maker(politics)\n",
    "total_vocabulary = voc_music.union(voc_pol)\n"
   ]
  },
  {
   "cell_type": "code",
   "execution_count": 160,
   "metadata": {},
   "outputs": [],
   "source": [
    "voc_all = voc_music.union(voc_pol)"
   ]
  },
  {
   "cell_type": "code",
   "execution_count": 161,
   "metadata": {},
   "outputs": [],
   "source": [
    "total_vocab_count = len(voc_all)\n",
    "total_music_count = len(vocab_music)\n",
    "total_politics_count = len(vocab_politics)"
   ]
  },
  {
   "cell_type": "code",
   "execution_count": 95,
   "metadata": {},
   "outputs": [],
   "source": [
    "#P(politics | leaders agreed to fund the stadium)"
   ]
  },
  {
   "cell_type": "code",
   "execution_count": 179,
   "metadata": {},
   "outputs": [],
   "source": [
    "def find_number_words_in_category(phrase,category):\n",
    "    statement = phrase.split()\n",
    "    str_category=' '.join(category)\n",
    "    cat_word_list = str_category.split()\n",
    "    word_count = defaultdict(int)\n",
    "    for word in statement:\n",
    "        for art_word in cat_word_list:\n",
    "            if word == art_word:\n",
    "                word_count[word] +=1\n",
    "            else:\n",
    "                word_count[word]\n",
    "    return word_count\n",
    "                \n",
    "            "
   ]
  },
  {
   "cell_type": "code",
   "execution_count": 200,
   "metadata": {},
   "outputs": [],
   "source": [
    "test_music_word_count = find_number_words_in_category(test_statement,music)\n"
   ]
  },
  {
   "cell_type": "code",
   "execution_count": 201,
   "metadata": {
    "scrolled": true
   },
   "outputs": [
    {
     "data": {
      "text/plain": [
       "defaultdict(int,\n",
       "            {'world': 0,\n",
       "             'leaders': 1,\n",
       "             'agreed': 0,\n",
       "             'to': 0,\n",
       "             'fund': 0,\n",
       "             'the': 1,\n",
       "             'stadium': 1})"
      ]
     },
     "execution_count": 201,
     "metadata": {},
     "output_type": "execute_result"
    }
   ],
   "source": [
    "test_music_word_count"
   ]
  },
  {
   "cell_type": "code",
   "execution_count": 182,
   "metadata": {},
   "outputs": [],
   "source": [
    "test_politic_word_count = find_number_words_in_category(test_statement,politics)"
   ]
  },
  {
   "cell_type": "code",
   "execution_count": 183,
   "metadata": {},
   "outputs": [
    {
     "data": {
      "text/plain": [
       "defaultdict(int,\n",
       "            {'world': 1,\n",
       "             'leaders': 1,\n",
       "             'agreed': 1,\n",
       "             'to': 0,\n",
       "             'fund': 0,\n",
       "             'the': 2,\n",
       "             'stadium': 0})"
      ]
     },
     "execution_count": 183,
     "metadata": {},
     "output_type": "execute_result"
    }
   ],
   "source": [
    "test_politic_word_count"
   ]
  },
  {
   "cell_type": "code",
   "execution_count": 194,
   "metadata": {},
   "outputs": [],
   "source": [
    "def find_likelihood(category_count,test_category_count,alpha):\n",
    "    num = np.product(np.array(list(test_category_count.values())) + alpha)\n",
    "    denom = (category_count + total_word_count*alpha)**(len(test_category_count))\n",
    "    \n",
    "    return num/denom"
   ]
  },
  {
   "cell_type": "code",
   "execution_count": 198,
   "metadata": {
    "scrolled": true
   },
   "outputs": [],
   "source": [
    "likelihood_m = find_likelihood(total_music_count,test_music_word_count,1)"
   ]
  },
  {
   "cell_type": "code",
   "execution_count": 197,
   "metadata": {},
   "outputs": [],
   "source": [
    "likelihood_p = find_likelihood(total_politics_count,test_politic_word_count,1)"
   ]
  },
  {
   "cell_type": "markdown",
   "metadata": {},
   "source": [
    "### $ P(politics | article) = P(politics) x \\prod_{i=1}^{d} P(word_{i} | politics) $"
   ]
  },
  {
   "cell_type": "code",
   "execution_count": 208,
   "metadata": {},
   "outputs": [
    {
     "data": {
      "text/plain": [
       "True"
      ]
     },
     "execution_count": 208,
     "metadata": {},
     "output_type": "execute_result"
    }
   ],
   "source": [
    "likelihood_p * 0.5  > likelihood_m * 0.5"
   ]
  },
  {
   "cell_type": "markdown",
   "metadata": {},
   "source": [
    "Many times, the probabilities we end up are exceedingly small, so we can transform them using logs to save on computation speed"
   ]
  },
  {
   "cell_type": "markdown",
   "metadata": {},
   "source": [
    "### $ log(P(politics | article)) = log(P(politics)) + \\sum_{i=1}^{d}log( P(word_{i} | politics)) $\n",
    "\n",
    "\n",
    "\n",
    "\n",
    "\n"
   ]
  },
  {
   "cell_type": "markdown",
   "metadata": {},
   "source": [
    "### Different Types of Naive Bayes Classifiers"
   ]
  },
  {
   "cell_type": "markdown",
   "metadata": {},
   "source": [
    "Multinomial Naive Bayes Classifier: this is the example we just did! It is essentially a collection of a Bernoulli Naive Bayes Classifier. This classifer cannot handle negative values!\n",
    "\n",
    "\n",
    "\n",
    "The Bernoulli Naive Bayes Classifier: used when your features are binary (0 or 1). In the context of a text based classification task, this would be whether or not a word appears in a document at all and calculating the probability of it occuring.\n",
    "\n",
    "<img src = \"./resources/bernoulli_nb_formula.svg\">\n",
    "\n",
    "\n",
    "There is also the Gaussian Naive Bayes Classifier, which assumes that the features that you are predicting based off of are normally distributed.\n"
   ]
  },
  {
   "cell_type": "markdown",
   "metadata": {},
   "source": [
    "## General machine learning information \n"
   ]
  },
  {
   "cell_type": "markdown",
   "metadata": {},
   "source": [
    "Whenever we are fitting data to a machine learning model, we need to put the data into a training and testing set to prevent overfitting.\n"
   ]
  },
  {
   "cell_type": "markdown",
   "metadata": {},
   "source": [
    "<img src=\"./resources/train_test.png\">"
   ]
  },
  {
   "cell_type": "code",
   "execution_count": 203,
   "metadata": {},
   "outputs": [],
   "source": [
    "from sklearn.model_selection import train_test_split\n",
    "# X_train,X_test, y_train, y_test = train_test_split(data)\n"
   ]
  },
  {
   "cell_type": "markdown",
   "metadata": {},
   "source": [
    "### Using Naive Bayes in sklearn"
   ]
  },
  {
   "cell_type": "code",
   "execution_count": 204,
   "metadata": {},
   "outputs": [],
   "source": [
    "from sklearn.naive_bayes import GaussianNB, BernoulliNB, MultinomialNB\n",
    "\n",
    "model = GaussianNB()\n",
    "model.fit(X_train,y_train)\n",
    "model.predict(X_test)"
   ]
  },
  {
   "cell_type": "code",
   "execution_count": null,
   "metadata": {},
   "outputs": [],
   "source": [
    "y_train = [1,0,0,0,1,1,1,1,1]"
   ]
  }
 ],
 "metadata": {
  "kernelspec": {
   "display_name": "Python 3",
   "language": "python",
   "name": "python3"
  },
  "language_info": {
   "codemirror_mode": {
    "name": "ipython",
    "version": 3
   },
   "file_extension": ".py",
   "mimetype": "text/x-python",
   "name": "python",
   "nbconvert_exporter": "python",
   "pygments_lexer": "ipython3",
   "version": "3.6.5"
  }
 },
 "nbformat": 4,
 "nbformat_minor": 2
}
