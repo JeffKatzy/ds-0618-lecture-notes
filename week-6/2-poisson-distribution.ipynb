{
 "cells": [
  {
   "cell_type": "markdown",
   "metadata": {},
   "source": [
    "# Poisson \n",
    "\n",
    "### Review binomial\n",
    "\n",
    "* We use the binomial distribution P(X) where X is the number of successes and n is the number of trials.\n",
    "* Assumptions: \n",
    "    * Success of each trial is independent\n",
    "    * probability of success is constant for each trial\n",
    "    \n",
    "Example:  \n",
    "* Basketball player makes 30 percent of shots, takes 10 shots, X is the number of shots he makes    "
   ]
  },
  {
   "cell_type": "markdown",
   "metadata": {},
   "source": [
    "### Question\n",
    "\n",
    "> Or the number of raindrops that fall on a sheet of paper?\n",
    "\n",
    "> Or the probability of expulsions from school in a year?\n",
    "\n",
    "> Or the probability 2 instances of type of bacteria in 30cc of water?\n",
    "\n",
    "\n",
    "* Here what's missing?"
   ]
  },
  {
   "cell_type": "code",
   "execution_count": null,
   "metadata": {},
   "outputs": [],
   "source": []
  },
  {
   "cell_type": "markdown",
   "metadata": {},
   "source": [
    "For that we need the poisson\n",
    "\n",
    "> **The poisson** is to count the number of occurrences of an event in a given unit of time, distance area or volume\n",
    "\n",
    "    a. Eg. Number of car accidents a day\n",
    "    b. Number of dandelions In square meter of land\n",
    "\n",
    "The Poisson distribution applies when: \n",
    "\n",
    "1. the event is something that can be counted in whole numbers; \n",
    "2. occurrences are independent, so that one occurrence neither diminishes nor increases the chance of another; \n",
    "3. the average frequency of occurrence for the time period in question is known; and \n",
    "4. it is possible to count how many events have occurred, but meaningless to ask how many events have not occurred"
   ]
  },
  {
   "cell_type": "markdown",
   "metadata": {},
   "source": [
    "### The poisson in action\n",
    "\n",
    "$p(K = k) = \\frac{\\lambda^k e^{-\\lambda}}{k!}$\n",
    "\n",
    "* where k is the number of occurrences \n",
    "* and $\\lambda$ is a rate (occurrences per a unit of time)\n",
    "* Note that the expected number of occurrences is also $\\lambda$\n",
    "\n",
    "![](./resources/pmf-poisson.png)\n",
    "\n",
    "![](./resources/poisson-cdf.png)"
   ]
  },
  {
   "cell_type": "code",
   "execution_count": 24,
   "metadata": {},
   "outputs": [
    {
     "data": {
      "image/png": "[encoded data removed]",
      "text/plain": [
       "<Figure size 432x288 with 1 Axes>"
      ]
     },
     "metadata": {},
     "output_type": "display_data"
    }
   ],
   "source": [
    "import numpy as np\n",
    "import matplotlib.pyplot as plt\n",
    "\n",
    "s = np.random.poisson(20, 100000)\n",
    "plt.hist(s, 30)\n",
    "\n",
    "plt.show()"
   ]
  },
  {
   "cell_type": "markdown",
   "metadata": {},
   "source": [
    "###  Examples\n",
    "\n",
    "#### Plutonium decay example\n",
    "\n",
    "* 2.3 decays/second\n",
    "* So what is the probabiity that in this period there are exactly three decays in two seconds"
   ]
  },
  {
   "cell_type": "code",
   "execution_count": 14,
   "metadata": {},
   "outputs": [
    {
     "data": {
      "text/plain": [
       "0.3257062830214471"
      ]
     },
     "execution_count": 14,
     "metadata": {},
     "output_type": "execute_result"
    }
   ],
   "source": [
    "from scipy.stats import poisson\n",
    "# k = 3  \n",
    "# _lambda = 4.6\n",
    "\n",
    "# 0.1630675806732757\n",
    "# poisson.pmf(3, 4.6)\n",
    "poisson.cdf(3, 4.6)"
   ]
  },
  {
   "cell_type": "markdown",
   "metadata": {},
   "source": [
    "#### Traffic accidents on freeway\n",
    "\n",
    "1. It has been observed that the average number of traffic accidents on the Hollywood Freeway between 7 and 8 AM on Wednesday mornings is 1 per hour. What is the chance that there will be 2 accidents on the Freeway, on some specified Wednesday morning between 7 and 8 am?\n",
    "\n",
    "2. What is the probability that there are two accidents in 30 minutes?"
   ]
  },
  {
   "cell_type": "markdown",
   "metadata": {},
   "source": [
    "$p(K = k) = \\frac{(\\lambda t)^k e^{-\\lambda t}}{k!}$"
   ]
  },
  {
   "cell_type": "code",
   "execution_count": 28,
   "metadata": {},
   "outputs": [],
   "source": [
    "from math import factorial, exp\n",
    "\n",
    "def _poisson(_lambda, t, k):\n",
    "    return (exp(-_lambda*t)*(_lambda*t)**k)/factorial(k)\n",
    "    "
   ]
  },
  {
   "cell_type": "code",
   "execution_count": 33,
   "metadata": {},
   "outputs": [
    {
     "data": {
      "text/plain": [
       "0.015328310048810098"
      ]
     },
     "execution_count": 33,
     "metadata": {},
     "output_type": "execute_result"
    }
   ],
   "source": [
    "_lambda = 1\n",
    "t = 1\n",
    "k = 2\n",
    "        # lambda, t, k\n",
    "\n",
    "_poisson(1, .5, 2)\n",
    "# expect .5 in 30 minutes, and get 2\n",
    "# 0.07581633246407918\n",
    "\n",
    "_poisson(1, 1, 4)\n",
    "# expect 1 in one hour, and get 4\n",
    "# 0.015328310048810098\n",
    "\n"
   ]
  },
  {
   "cell_type": "code",
   "execution_count": 38,
   "metadata": {},
   "outputs": [
    {
     "data": {
      "text/plain": [
       "0.12910619646375868"
      ]
     },
     "execution_count": 38,
     "metadata": {},
     "output_type": "execute_result"
    }
   ],
   "source": [
    "from scipy.stats import poisson\n",
    "\n",
    "poisson.pmf(1, 3/20)"
   ]
  },
  {
   "cell_type": "code",
   "execution_count": 10,
   "metadata": {},
   "outputs": [
    {
     "data": {
      "text/plain": [
       "0.22404180765538775"
      ]
     },
     "execution_count": 10,
     "metadata": {},
     "output_type": "execute_result"
    }
   ],
   "source": [
    "from scipy.stats import poisson\n",
    "# k = number of occurrences\n",
    "# lambda = rate\n",
    "poisson.pmf(2, 1)\n",
    "\n",
    "\n",
    "\n",
    "poisson.pmf(2, 1)\n",
    "# 0.18393972058572114\n",
    "\n",
    "# probability of two acccidents in 30 minutes\n",
    "    # 1 per hour\n",
    "# 4 accidents in one hour\n",
    "poisson.pmf(4, 1)\n",
    "    # 0.01532\n",
    "# 2 per half hour\n",
    "poisson.pmf(2, 2)\n",
    "# 0.2706705664732254\n"
   ]
  },
  {
   "cell_type": "markdown",
   "metadata": {},
   "source": [
    "#### Switchboard operator\n",
    "\n",
    "The switchboard in a small Denver law office gets an average of 2.5 incoming phonecalls during the noon hour on Thursdays. Staffing is reduced accordingly; people are allowed to go out for lunch in rotation. Experience shows that the assigned levels are adequate to handle a high of 5 calls during that hour. What is the chance that 6 calls will be received in the noon hour, some particular Thursday, in which case the firm might miss an important call?"
   ]
  },
  {
   "cell_type": "code",
   "execution_count": 27,
   "metadata": {},
   "outputs": [
    {
     "data": {
      "text/plain": [
       "0.02783372620439277"
      ]
     },
     "execution_count": 27,
     "metadata": {},
     "output_type": "execute_result"
    }
   ],
   "source": [
    "_poisson(2.5, 1, 6)"
   ]
  },
  {
   "cell_type": "code",
   "execution_count": 20,
   "metadata": {},
   "outputs": [
    {
     "data": {
      "text/plain": [
       "0.9579789618046939"
      ]
     },
     "execution_count": 20,
     "metadata": {},
     "output_type": "execute_result"
    }
   ],
   "source": [
    "poisson.pmf(6, 2.5)\n",
    "\n",
    "# What's the probability that we have more than five calls?\n",
    "#  1- probability of at least five calls\n",
    "poisson.cdf(5, 2.5)\n",
    "# p(6) = 0.0278"
   ]
  },
  {
   "cell_type": "markdown",
   "metadata": {},
   "source": [
    "### Relationship btwn binomial and poisson \n",
    "\n",
    "Well we can get there if we imagine rolling a die once every second, a ten sided die and if it rolls a one we consider that a success.\n",
    "\n",
    "* To determine if random variable has the poisson distribution\n",
    "* The binomial distribution tends towards the poisson distribution as n tends towards infinity and np stays constant\n",
    "* The poisson distribution with lambda = np approximates the binomial if n is large and p is small\n",
    "* So for plutonium, there are a large number of atoms and each one has a tiny probability of decaying, so n is large and p is small \n",
    "* So in fact it was in it's nature a binomial distribution "
   ]
  },
  {
   "cell_type": "markdown",
   "metadata": {},
   "source": [
    "Approximates binomial when: \n",
    "* np < 10, n >= 20, p < .05"
   ]
  },
  {
   "cell_type": "markdown",
   "metadata": {},
   "source": [
    "### Is it a poisson or not?\n",
    "\n",
    "\n",
    "Remember that poisson occurs when: \n",
    "* occurrences are independent, so that one occurrence neither diminishes nor increases the chance of another; \n",
    "\n",
    "\n",
    "1. Example one\n",
    "![](./resources/random-poisson.png)\n",
    "\n",
    "2. Example 2\n",
    "\n",
    "![](./resources/organized-lights.png)\n",
    "\n",
    "\n",
    "3. Example 3\n",
    "\n",
    "![](./resources/clumps.png)\n",
    "\n",
    "4. Example 4\n",
    "\n",
    "![](./resources/friends-through-door.png)"
   ]
  },
  {
   "cell_type": "markdown",
   "metadata": {},
   "source": [
    "### Word examples"
   ]
  },
  {
   "cell_type": "markdown",
   "metadata": {},
   "source": [
    "* Number of fatal commercial airline crashes per year\n",
    "* Number of fatalities via commercial airliner per year \n",
    "* Number of people who walk through doors of a coffeeshop? "
   ]
  },
  {
   "cell_type": "markdown",
   "metadata": {},
   "source": [
    "> It may be used in reverse, to test whether a given data set was generated by a random process. If the data fit the Poisson Expectation closely, then there is no strong reason to believe that something other than random occurrence is at work. On the other hand, if the data are lumpy, we look for what might be causing the lump."
   ]
  },
  {
   "cell_type": "code",
   "execution_count": null,
   "metadata": {},
   "outputs": [],
   "source": []
  }
 ],
 "metadata": {
  "kernelspec": {
   "display_name": "Python 3",
   "language": "python",
   "name": "python3"
  },
  "language_info": {
   "codemirror_mode": {
    "name": "ipython",
    "version": 3
   },
   "file_extension": ".py",
   "mimetype": "text/x-python",
   "name": "python",
   "nbconvert_exporter": "python",
   "pygments_lexer": "ipython3",
   "version": "3.5.5"
  }
 },
 "nbformat": 4,
 "nbformat_minor": 2
}
