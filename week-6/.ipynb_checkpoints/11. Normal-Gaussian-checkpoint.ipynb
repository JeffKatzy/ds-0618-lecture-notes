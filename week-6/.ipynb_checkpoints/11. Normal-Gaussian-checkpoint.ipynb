{
 "cells": [
  {
   "cell_type": "markdown",
   "metadata": {},
   "source": [
    "### Normal distribution"
   ]
  },
  {
   "cell_type": "markdown",
   "metadata": {},
   "source": [
    "X is a normal distribution with X ~ $N(\\mu, \\sigma^2) $"
   ]
  },
  {
   "cell_type": "markdown",
   "metadata": {},
   "source": [
    "Where $\\mu$ is the mean, and $\\sigma^2$ is the variance.  And $\\sigma$ stands for standard deviation.\n",
    "\n",
    "PDF = $f(x) = \\frac{1}{\\sigma \\sqrt{2 \\pi}}e^{\\frac{-(x - u)^2}{2 \\sigma^2}}$\n",
    "\n",
    "* If X has a normal distribution, that can take on any finite value \n",
    "* The $\\sigma$ defines the spread and the $\\mu$ defines the center. \n",
    "* $f(x)$ is symmetric about $\\mu$\n",
    "* $f(x)$ means the probability density at little x\n",
    "* In the exponent this is the distance of $x$ to the mean "
   ]
  },
  {
   "cell_type": "markdown",
   "metadata": {},
   "source": [
    "X ~ $N(\\mu, \\sigma^2) $"
   ]
  },
  {
   "cell_type": "markdown",
   "metadata": {},
   "source": [
    "![](./resources/normal-intro.png)"
   ]
  },
  {
   "cell_type": "markdown",
   "metadata": {},
   "source": [
    "![](./resources/normal-variances.png)"
   ]
  },
  {
   "cell_type": "code",
   "execution_count": 6,
   "metadata": {},
   "outputs": [
    {
     "data": {
      "image/png": "[encoded data removed]",
      "text/plain": [
       "<Figure size 432x288 with 1 Axes>"
      ]
     },
     "metadata": {},
     "output_type": "display_data"
    }
   ],
   "source": [
    "import numpy as np \n",
    "import matplotlib.pyplot as plt\n",
    "\n",
    "values= np.random.normal(0,1, 100000)\n",
    "plt.hist(values,500)\n",
    "plt.show()"
   ]
  },
  {
   "cell_type": "markdown",
   "metadata": {},
   "source": [
    "### Why normals are important \n",
    "\n",
    "* Show up in our world: heights and weights (but not really, it's log normal)\n",
    "* Most noise is normal (and these also can be all types of distributions)\n",
    "\n",
    "The real reason why normals are important, is because to describe it in simplest mechanism possible can just use the mean.  And then the second most important statistic is the variance.  \n",
    "\n",
    "If you want to model a distribution based on mean and variance, the gaussian does the best job.  "
   ]
  },
  {
   "cell_type": "markdown",
   "metadata": {},
   "source": [
    "![](./resources/overfitting.png)"
   ]
  },
  {
   "cell_type": "markdown",
   "metadata": {},
   "source": [
    "![](./resources/normal-approx.png)"
   ]
  },
  {
   "cell_type": "markdown",
   "metadata": {},
   "source": [
    "## Calculating the probability \n",
    "\n",
    "1. Need to integrate to get to CDF\n",
    "\n",
    "Now we need to integrate it, because if we need to know the probability that a random variable takes on a value in that range we need to integrate it.\n",
    "\n",
    "But the integral for the normal has no closed form.  \n",
    "\n",
    "### Standard normal distribution \n",
    "\n",
    "* Z is standard normal distribution, $N(0, 1)$\n",
    "* It's a normal distribution with mean zero and variance 1\n",
    "\n",
    "You cannot solve the integral but people have calculated it for all different values of Z.  \n",
    "\n",
    "![](./resources/calculating-probability.png)"
   ]
  },
  {
   "cell_type": "markdown",
   "metadata": {},
   "source": [
    "To find probability that random variable Z is less than or equal to x, can do:"
   ]
  },
  {
   "cell_type": "code",
   "execution_count": 11,
   "metadata": {},
   "outputs": [
    {
     "data": {
      "text/plain": [
       "0.15865525393145707"
      ]
     },
     "execution_count": 11,
     "metadata": {},
     "output_type": "execute_result"
    }
   ],
   "source": [
    "import scipy.stats as st\n",
    "st.norm.cdf(-1)"
   ]
  },
  {
   "cell_type": "markdown",
   "metadata": {},
   "source": [
    "### So now use Z to compute F(x)"
   ]
  },
  {
   "cell_type": "markdown",
   "metadata": {},
   "source": [
    "$Z = \\frac{X - u}{\\sigma}$\n",
    "\n",
    "* The probability that a random variable X, takes on a value less than or equal to x, we have: \n",
    "$F(x) = \\phi \\frac{x - u}{\\sigma}$\n",
    "* If you want to know $\\phi$ of a negative number that's equal to $1 - \\phi$ of a positive number"
   ]
  },
  {
   "cell_type": "markdown",
   "metadata": {},
   "source": [
    "### Examples"
   ]
  },
  {
   "cell_type": "markdown",
   "metadata": {},
   "source": [
    "X ~ N(3, 16)\n",
    "* $u = 3$\n",
    "* $\\sigma = 4$"
   ]
  },
  {
   "cell_type": "markdown",
   "metadata": {},
   "source": [
    "* What's the P(X < 0) = ?"
   ]
  },
  {
   "cell_type": "markdown",
   "metadata": {},
   "source": [
    "* Now what's P(2< X < 5)"
   ]
  },
  {
   "cell_type": "markdown",
   "metadata": {},
   "source": [
    "1. Noisy wires \n",
    "\n",
    "Send voltage of 2 or -2 on wire \n",
    "X = voltage sent \n",
    "R = voltage recieved = X + Y, where Y ~ N(0, 1)\n",
    "If (R > .5) then 1, otherwise 0\n",
    "\n",
    "* What's the probability of error, given original bit = 1\n",
    "\n",
    "* P(2 + Y < .5)\n",
    "* P(Y < - 1.5) = 1 - $\\phi 1.5$\n",
    "\n"
   ]
  },
  {
   "cell_type": "markdown",
   "metadata": {},
   "source": [
    "3. Poll of polls\n",
    "\n",
    "> * They estimate a gaussian for each candidate \n",
    "> * Then they do a weighted average for each poll (based on how much they believe each poll)\n",
    "> * And variance is a weighted average of poll trust \n",
    "\n",
    "So when don't know how to model the uncertainty the best approach is a gaussian"
   ]
  },
  {
   "cell_type": "markdown",
   "metadata": {},
   "source": [
    "### Gaussian for large numbers\n",
    "\n",
    "* Binomial approximates to gaussian when n is around 20\n",
    "* Binomial to Poisson when the number of subdivisions is large\n",
    " > *  When you cannot separate n and p, then use the poisson when n > 20 and p < .05\n",
    "> * When you can separate n and p, then you can use normal, N(np, np(1 - p)) \n",
    "\n"
   ]
  },
  {
   "cell_type": "markdown",
   "metadata": {},
   "source": [
    "> Central limit theorem\n",
    "\n",
    "> The central limit theorem for sums says that if you keep drawing larger and larger samples and taking their sums, the sums form their own normal distribution (the sampling distribution), which approaches a normal distribution as the sample size increases.\n",
    "\n",
    "[Source](https://courses.lumenlearning.com/introstats1/chapter/the-central-limit-theorem-for-sums/)\n",
    "\n",
    "* So binomial and poisson follow this, because we were adding the successes to gether .  Found that the probability distribution for the number of successes approached a gaussian.  \n",
    "\n",
    "Note that there are two numbers to consider here: \n",
    "1. Number of trials, $N_t$.  The sum of the random variables for these Nt trials is gaussian only if number fo trials is large.  \n",
    "2. Number of processes, $N_p$ to verify the distribution of the sum.  "
   ]
  },
  {
   "cell_type": "markdown",
   "metadata": {},
   "source": [
    "### Website testing \n",
    "\n",
    "100 people are given a new website design \n",
    "\n",
    "X = # of people whose time on website increases\n",
    "CEO endorses if x > 65.\n",
    "So what is P(CEO endorses | no effect)\n",
    "\n",
    "* n = 100 \n",
    "* p = .5\n",
    "\n",
    "$P(Y > 64.5) = P(Y - 50/5) > \\frac{64.5 - 50}{5} = P(Z > 2.9) = 1 - \\phi 2.9 = .0019$"
   ]
  },
  {
   "cell_type": "markdown",
   "metadata": {},
   "source": [
    "### Admissions problem\n",
    "\n",
    "Duke accepts 2480 students.  \n",
    "Each student has 68% chance of accepting\n",
    "They only have 1745 beds.\n",
    "\n",
    "* X = # of students who will attend\n",
    "* P(X > 1745) \n",
    "\n",
    ">* mu = 2485*.68 = 1686.4\n",
    ">* var = np*(1 - p) = mu*.32 = 540.8 \n",
    ">* sd = 23.23"
   ]
  }
 ],
 "metadata": {
  "kernelspec": {
   "display_name": "Python 3",
   "language": "python",
   "name": "python3"
  },
  "language_info": {
   "codemirror_mode": {
    "name": "ipython",
    "version": 3
   },
   "file_extension": ".py",
   "mimetype": "text/x-python",
   "name": "python",
   "nbconvert_exporter": "python",
   "pygments_lexer": "ipython3",
   "version": "3.5.5"
  }
 },
 "nbformat": 4,
 "nbformat_minor": 2
}
