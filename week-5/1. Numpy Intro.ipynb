{
 "cells": [
  {
   "cell_type": "markdown",
   "metadata": {},
   "source": [
    "### Numpy intro "
   ]
  },
  {
   "cell_type": "markdown",
   "metadata": {},
   "source": [
    "* higher dimensional data structure \n",
    "* selection of elements within the list lines up nicely to python\n",
    "* performing operations on an array instead of a scalar"
   ]
  },
  {
   "cell_type": "code",
   "execution_count": 6,
   "metadata": {},
   "outputs": [],
   "source": [
    "import numpy as np"
   ]
  },
  {
   "cell_type": "code",
   "execution_count": 7,
   "metadata": {},
   "outputs": [
    {
     "data": {
      "text/plain": [
       "array([1, 4, 5])"
      ]
     },
     "execution_count": 7,
     "metadata": {},
     "output_type": "execute_result"
    }
   ],
   "source": [
    "np.array([1, 4, 5])"
   ]
  },
  {
   "cell_type": "code",
   "execution_count": 8,
   "metadata": {},
   "outputs": [
    {
     "data": {
      "text/plain": [
       "array([1., 1., 1., 1.])"
      ]
     },
     "execution_count": 8,
     "metadata": {},
     "output_type": "execute_result"
    }
   ],
   "source": [
    "np.ones(4)"
   ]
  },
  {
   "cell_type": "code",
   "execution_count": 12,
   "metadata": {},
   "outputs": [
    {
     "data": {
      "text/plain": [
       "array([[0., 0.],\n",
       "       [0., 0.],\n",
       "       [0., 0.],\n",
       "       [0., 0.]])"
      ]
     },
     "execution_count": 12,
     "metadata": {},
     "output_type": "execute_result"
    }
   ],
   "source": [
    "np.zeros((4, 2))"
   ]
  },
  {
   "cell_type": "code",
   "execution_count": 19,
   "metadata": {},
   "outputs": [
    {
     "data": {
      "text/plain": [
       "array([[[0., 0.],\n",
       "        [0., 0.],\n",
       "        [0., 0.]],\n",
       "\n",
       "       [[0., 0.],\n",
       "        [0., 0.],\n",
       "        [0., 0.]]])"
      ]
     },
     "execution_count": 19,
     "metadata": {},
     "output_type": "execute_result"
    }
   ],
   "source": [
    "np.zeros((2,3, 2))"
   ]
  },
  {
   "cell_type": "code",
   "execution_count": 20,
   "metadata": {},
   "outputs": [
    {
     "data": {
      "text/plain": [
       "array([[['hello', 'hello', 'hello', 'hello'],\n",
       "        ['hello', 'hello', 'hello', 'hello']],\n",
       "\n",
       "       [['hello', 'hello', 'hello', 'hello'],\n",
       "        ['hello', 'hello', 'hello', 'hello']],\n",
       "\n",
       "       [['hello', 'hello', 'hello', 'hello'],\n",
       "        ['hello', 'hello', 'hello', 'hello']]], dtype='<U5')"
      ]
     },
     "execution_count": 20,
     "metadata": {},
     "output_type": "execute_result"
    }
   ],
   "source": [
    "np.full((3,2,4), 'hello')"
   ]
  },
  {
   "cell_type": "code",
   "execution_count": 30,
   "metadata": {
    "scrolled": true
   },
   "outputs": [
    {
     "data": {
      "text/plain": [
       "array([ 0.        ,  0.52631579,  1.05263158,  1.57894737,  2.10526316,\n",
       "        2.63157895,  3.15789474,  3.68421053,  4.21052632,  4.73684211,\n",
       "        5.26315789,  5.78947368,  6.31578947,  6.84210526,  7.36842105,\n",
       "        7.89473684,  8.42105263,  8.94736842,  9.47368421, 10.        ])"
      ]
     },
     "execution_count": 30,
     "metadata": {},
     "output_type": "execute_result"
    }
   ],
   "source": [
    "np.linspace(0, 10, 20)"
   ]
  },
  {
   "cell_type": "code",
   "execution_count": 38,
   "metadata": {},
   "outputs": [
    {
     "data": {
      "text/plain": [
       "array([ 0,  2,  4,  6,  8, 10])"
      ]
     },
     "execution_count": 38,
     "metadata": {},
     "output_type": "execute_result"
    }
   ],
   "source": [
    "evens = np.arange(0, 11, 2)\n",
    "evens"
   ]
  },
  {
   "cell_type": "code",
   "execution_count": 37,
   "metadata": {},
   "outputs": [
    {
     "data": {
      "text/plain": [
       "array([1, 3, 5, 7, 9])"
      ]
     },
     "execution_count": 37,
     "metadata": {},
     "output_type": "execute_result"
    }
   ],
   "source": [
    "odds = np.arange(1, 11, 2)\n",
    "odds"
   ]
  },
  {
   "cell_type": "code",
   "execution_count": 43,
   "metadata": {},
   "outputs": [],
   "source": [
    "not_quite_evens = np.append(evens, 'foo')"
   ]
  },
  {
   "cell_type": "code",
   "execution_count": 42,
   "metadata": {
    "scrolled": true
   },
   "outputs": [
    {
     "data": {
      "text/plain": [
       "dtype('int64')"
      ]
     },
     "execution_count": 42,
     "metadata": {},
     "output_type": "execute_result"
    }
   ],
   "source": [
    "odds.dtype"
   ]
  },
  {
   "cell_type": "code",
   "execution_count": 44,
   "metadata": {},
   "outputs": [
    {
     "data": {
      "text/plain": [
       "dtype('<U21')"
      ]
     },
     "execution_count": 44,
     "metadata": {},
     "output_type": "execute_result"
    }
   ],
   "source": [
    "not_quite_evens.dtype"
   ]
  },
  {
   "cell_type": "code",
   "execution_count": 47,
   "metadata": {},
   "outputs": [
    {
     "data": {
      "text/plain": [
       "numpy.str_"
      ]
     },
     "execution_count": 47,
     "metadata": {},
     "output_type": "execute_result"
    }
   ],
   "source": [
    "type(not_quite_evens[2])"
   ]
  },
  {
   "cell_type": "code",
   "execution_count": 49,
   "metadata": {},
   "outputs": [],
   "source": [
    "nums = list(range(0, 5))"
   ]
  },
  {
   "cell_type": "code",
   "execution_count": 50,
   "metadata": {},
   "outputs": [],
   "source": [
    "nums.append('foo')"
   ]
  },
  {
   "cell_type": "code",
   "execution_count": 51,
   "metadata": {},
   "outputs": [
    {
     "data": {
      "text/plain": [
       "[0, 1, 2, 3, 4, 'foo']"
      ]
     },
     "execution_count": 51,
     "metadata": {},
     "output_type": "execute_result"
    }
   ],
   "source": [
    "nums[]"
   ]
  },
  {
   "cell_type": "markdown",
   "metadata": {},
   "source": [
    "* Speed \n",
    "* Space "
   ]
  },
  {
   "cell_type": "code",
   "execution_count": 52,
   "metadata": {},
   "outputs": [],
   "source": [
    "evens = np.arange(0, 9, 2)"
   ]
  },
  {
   "cell_type": "code",
   "execution_count": 54,
   "metadata": {},
   "outputs": [
    {
     "data": {
      "text/plain": [
       "dtype('int64')"
      ]
     },
     "execution_count": 54,
     "metadata": {},
     "output_type": "execute_result"
    }
   ],
   "source": [
    "evens.dtype"
   ]
  },
  {
   "cell_type": "code",
   "execution_count": 62,
   "metadata": {},
   "outputs": [],
   "source": [
    "strs_as_numbers = evens.astype('<U21')"
   ]
  },
  {
   "cell_type": "code",
   "execution_count": 63,
   "metadata": {},
   "outputs": [
    {
     "data": {
      "text/plain": [
       "array(['0', '2', '4', '6', '8'], dtype='<U21')"
      ]
     },
     "execution_count": 63,
     "metadata": {},
     "output_type": "execute_result"
    }
   ],
   "source": [
    "strs_as_numbers"
   ]
  },
  {
   "cell_type": "code",
   "execution_count": 67,
   "metadata": {},
   "outputs": [],
   "source": [
    "strs_as_numbers[1] = strs_as_numbers[1] + '1'"
   ]
  },
  {
   "cell_type": "code",
   "execution_count": 68,
   "metadata": {},
   "outputs": [
    {
     "data": {
      "text/plain": [
       "array(['0', '21', '4', '6', '8'], dtype='<U21')"
      ]
     },
     "execution_count": 68,
     "metadata": {},
     "output_type": "execute_result"
    }
   ],
   "source": [
    "strs_as_numbers"
   ]
  },
  {
   "cell_type": "code",
   "execution_count": 69,
   "metadata": {},
   "outputs": [
    {
     "data": {
      "text/plain": [
       "array([ 0, 21,  4,  6,  8])"
      ]
     },
     "execution_count": 69,
     "metadata": {},
     "output_type": "execute_result"
    }
   ],
   "source": [
    "strs_as_numbers.astype('int')"
   ]
  },
  {
   "cell_type": "markdown",
   "metadata": {},
   "source": [
    "### multidimensional arrays"
   ]
  },
  {
   "cell_type": "code",
   "execution_count": 70,
   "metadata": {},
   "outputs": [
    {
     "data": {
      "text/plain": [
       "array([0, 2, 4, 6, 8])"
      ]
     },
     "execution_count": 70,
     "metadata": {},
     "output_type": "execute_result"
    }
   ],
   "source": [
    "evens"
   ]
  },
  {
   "cell_type": "code",
   "execution_count": 71,
   "metadata": {},
   "outputs": [
    {
     "data": {
      "text/plain": [
       "array([1, 3, 5, 7, 9])"
      ]
     },
     "execution_count": 71,
     "metadata": {},
     "output_type": "execute_result"
    }
   ],
   "source": [
    "odds"
   ]
  },
  {
   "cell_type": "code",
   "execution_count": 76,
   "metadata": {},
   "outputs": [
    {
     "data": {
      "text/plain": [
       "array([[0, 2, 4, 6, 8],\n",
       "       [1, 3, 5, 7, 9]])"
      ]
     },
     "execution_count": 76,
     "metadata": {},
     "output_type": "execute_result"
    }
   ],
   "source": [
    "stack_axis_zero = np.stack([evens, odds])\n",
    "stack_axis_zero"
   ]
  },
  {
   "cell_type": "code",
   "execution_count": 77,
   "metadata": {},
   "outputs": [
    {
     "data": {
      "text/plain": [
       "array([[0, 1],\n",
       "       [2, 3],\n",
       "       [4, 5],\n",
       "       [6, 7],\n",
       "       [8, 9]])"
      ]
     },
     "execution_count": 77,
     "metadata": {},
     "output_type": "execute_result"
    }
   ],
   "source": [
    "stack_axis_one = np.stack([evens, odds], axis = 1)\n",
    "stack_axis_one"
   ]
  },
  {
   "cell_type": "code",
   "execution_count": 87,
   "metadata": {},
   "outputs": [],
   "source": [
    "numbers_through_ten = np.arange(1, 11).reshape(2, 5)"
   ]
  },
  {
   "cell_type": "code",
   "execution_count": 88,
   "metadata": {},
   "outputs": [
    {
     "data": {
      "text/plain": [
       "array([[ 2,  3,  4,  5,  6],\n",
       "       [ 7,  8,  9, 10, 11]])"
      ]
     },
     "execution_count": 88,
     "metadata": {},
     "output_type": "execute_result"
    }
   ],
   "source": [
    "numbers_through_ten + 1"
   ]
  },
  {
   "cell_type": "code",
   "execution_count": 90,
   "metadata": {},
   "outputs": [
    {
     "data": {
      "text/plain": [
       "array([3, 4, 5, 6, 7])"
      ]
     },
     "execution_count": 90,
     "metadata": {},
     "output_type": "execute_result"
    }
   ],
   "source": [
    "numbers_through_ten[1] - 3"
   ]
  },
  {
   "cell_type": "code",
   "execution_count": 93,
   "metadata": {},
   "outputs": [],
   "source": [
    "numbers_through_ten[1] = 3"
   ]
  },
  {
   "cell_type": "code",
   "execution_count": 94,
   "metadata": {},
   "outputs": [
    {
     "data": {
      "text/plain": [
       "array([[1, 2, 3, 4, 5],\n",
       "       [3, 3, 3, 3, 3]])"
      ]
     },
     "execution_count": 94,
     "metadata": {},
     "output_type": "execute_result"
    }
   ],
   "source": [
    "numbers_through_ten"
   ]
  },
  {
   "cell_type": "code",
   "execution_count": 98,
   "metadata": {},
   "outputs": [
    {
     "data": {
      "text/plain": [
       "array([[1, 2, 3, 4, 5],\n",
       "       [3, 3, 3, 3, 3]])"
      ]
     },
     "execution_count": 98,
     "metadata": {},
     "output_type": "execute_result"
    }
   ],
   "source": [
    "numbers_through_ten"
   ]
  },
  {
   "cell_type": "code",
   "execution_count": 99,
   "metadata": {},
   "outputs": [],
   "source": [
    "numbers_through_ten[0] = numbers_through_ten[0] + numbers_through_ten[1]"
   ]
  },
  {
   "cell_type": "code",
   "execution_count": 100,
   "metadata": {},
   "outputs": [
    {
     "data": {
      "text/plain": [
       "array([[4, 5, 6, 7, 8],\n",
       "       [3, 3, 3, 3, 3]])"
      ]
     },
     "execution_count": 100,
     "metadata": {},
     "output_type": "execute_result"
    }
   ],
   "source": [
    "numbers_through_ten"
   ]
  },
  {
   "cell_type": "code",
   "execution_count": 101,
   "metadata": {},
   "outputs": [
    {
     "data": {
      "text/plain": [
       "(2, 5)"
      ]
     },
     "execution_count": 101,
     "metadata": {},
     "output_type": "execute_result"
    }
   ],
   "source": [
    "numbers_through_ten.shape"
   ]
  },
  {
   "cell_type": "code",
   "execution_count": 103,
   "metadata": {},
   "outputs": [
    {
     "data": {
      "text/plain": [
       "array([5, 3])"
      ]
     },
     "execution_count": 103,
     "metadata": {},
     "output_type": "execute_result"
    }
   ],
   "source": [
    "numbers_through_ten[:, 1]"
   ]
  },
  {
   "cell_type": "code",
   "execution_count": 108,
   "metadata": {},
   "outputs": [],
   "source": [
    "stacked_numbers = np.stack([stack_axis_one, stack_axis_one + 100])"
   ]
  },
  {
   "cell_type": "code",
   "execution_count": 109,
   "metadata": {},
   "outputs": [
    {
     "data": {
      "text/plain": [
       "array([[[  0,   1],\n",
       "        [  2,   3],\n",
       "        [  4,   5],\n",
       "        [  6,   7],\n",
       "        [  8,   9]],\n",
       "\n",
       "       [[100, 101],\n",
       "        [102, 103],\n",
       "        [104, 105],\n",
       "        [106, 107],\n",
       "        [108, 109]]])"
      ]
     },
     "execution_count": 109,
     "metadata": {},
     "output_type": "execute_result"
    }
   ],
   "source": [
    "stacked_numbers"
   ]
  },
  {
   "cell_type": "code",
   "execution_count": 114,
   "metadata": {},
   "outputs": [
    {
     "data": {
      "text/plain": [
       "array([  0, 100])"
      ]
     },
     "execution_count": 114,
     "metadata": {},
     "output_type": "execute_result"
    }
   ],
   "source": [
    "stacked_numbers[:, 0, 0]"
   ]
  },
  {
   "cell_type": "code",
   "execution_count": 118,
   "metadata": {},
   "outputs": [
    {
     "data": {
      "text/plain": [
       "array([[False,  True],\n",
       "       [False, False],\n",
       "       [False, False],\n",
       "       [False, False],\n",
       "       [False, False]])"
      ]
     },
     "execution_count": 118,
     "metadata": {},
     "output_type": "execute_result"
    }
   ],
   "source": [
    "stack_axis_one == 1"
   ]
  },
  {
   "cell_type": "code",
   "execution_count": 119,
   "metadata": {},
   "outputs": [
    {
     "data": {
      "text/plain": [
       "array([[0, 1],\n",
       "       [2, 3],\n",
       "       [4, 5],\n",
       "       [6, 7],\n",
       "       [8, 9]])"
      ]
     },
     "execution_count": 119,
     "metadata": {},
     "output_type": "execute_result"
    }
   ],
   "source": [
    "stack_axis_one"
   ]
  },
  {
   "cell_type": "code",
   "execution_count": 122,
   "metadata": {},
   "outputs": [
    {
     "data": {
      "text/plain": [
       "array([[ True,  True],\n",
       "       [ True, False],\n",
       "       [False, False],\n",
       "       [False, False],\n",
       "       [False, False]])"
      ]
     },
     "execution_count": 122,
     "metadata": {},
     "output_type": "execute_result"
    }
   ],
   "source": [
    "results = stack_axis_one < 3\n",
    "results"
   ]
  },
  {
   "cell_type": "code",
   "execution_count": 123,
   "metadata": {},
   "outputs": [
    {
     "data": {
      "text/plain": [
       "array([0, 1, 2])"
      ]
     },
     "execution_count": 123,
     "metadata": {},
     "output_type": "execute_result"
    }
   ],
   "source": [
    "stack_axis_one[results]"
   ]
  },
  {
   "cell_type": "code",
   "execution_count": 125,
   "metadata": {},
   "outputs": [
    {
     "data": {
      "text/plain": [
       "array([3])"
      ]
     },
     "execution_count": 125,
     "metadata": {},
     "output_type": "execute_result"
    }
   ],
   "source": [
    "stack_axis_one[stack_axis_one == 3]"
   ]
  },
  {
   "cell_type": "code",
   "execution_count": 127,
   "metadata": {},
   "outputs": [
    {
     "data": {
      "text/plain": [
       "array([[0, 1],\n",
       "       [2, 3],\n",
       "       [4, 5],\n",
       "       [6, 7],\n",
       "       [8, 9]])"
      ]
     },
     "execution_count": 127,
     "metadata": {},
     "output_type": "execute_result"
    }
   ],
   "source": [
    "stack_axis_one"
   ]
  },
  {
   "cell_type": "code",
   "execution_count": 129,
   "metadata": {},
   "outputs": [
    {
     "data": {
      "text/plain": [
       "array([1, 3])"
      ]
     },
     "execution_count": 129,
     "metadata": {},
     "output_type": "execute_result"
    }
   ],
   "source": [
    "stack_axis_one[:, 1][stack_axis_one[:, 1] < 5]"
   ]
  },
  {
   "cell_type": "code",
   "execution_count": 131,
   "metadata": {},
   "outputs": [
    {
     "data": {
      "text/plain": [
       "array([ True,  True, False, False, False])"
      ]
     },
     "execution_count": 131,
     "metadata": {},
     "output_type": "execute_result"
    }
   ],
   "source": [
    "stack_axis_one[:, 1] < 5"
   ]
  },
  {
   "cell_type": "code",
   "execution_count": 135,
   "metadata": {},
   "outputs": [
    {
     "data": {
      "text/plain": [
       "array([[0, 1],\n",
       "       [2, 3]])"
      ]
     },
     "execution_count": 135,
     "metadata": {},
     "output_type": "execute_result"
    }
   ],
   "source": [
    "stack_axis_one[stack_axis_one[:, 1] < 5]"
   ]
  },
  {
   "cell_type": "code",
   "execution_count": 136,
   "metadata": {},
   "outputs": [],
   "source": [
    "import pandas as pd"
   ]
  },
  {
   "cell_type": "code",
   "execution_count": 141,
   "metadata": {},
   "outputs": [],
   "source": [
    "msas= pd.read_html(\"https://en.wikipedia.org/wiki/List_of_metropolitan_statistical_areas\")[1]"
   ]
  },
  {
   "cell_type": "code",
   "execution_count": 143,
   "metadata": {},
   "outputs": [],
   "source": [
    "msas_array = msas.values"
   ]
  },
  {
   "cell_type": "code",
   "execution_count": 147,
   "metadata": {},
   "outputs": [
    {
     "data": {
      "text/plain": [
       "array(['New York-Newark-Jersey City, NY-NJ-PA MSA',\n",
       "       'Los Angeles-Long Beach-Anaheim, CA MSA',\n",
       "       'Chicago-Naperville-Elgin, IL-IN-WI MSA',\n",
       "       'Dallas-Fort Worth-Arlington, TX MSA',\n",
       "       'Houston-The Woodlands-Sugar Land, TX MSA',\n",
       "       'Washington-Arlington-Alexandria, DC-VA-MD-WV MSA',\n",
       "       'Miami-Fort Lauderdale-West Palm Beach, FL MSA',\n",
       "       'Philadelphia-Camden-Wilmington, PA-NJ-DE-MD MSA',\n",
       "       'Atlanta-Sandy Springs-Roswell, GA MSA',\n",
       "       'Boston-Cambridge-Newton, MA-NH MSA',\n",
       "       'Phoenix-Mesa-Scottsdale, AZ MSA',\n",
       "       'San Francisco-Oakland-Hayward, CA MSA',\n",
       "       'Riverside-San Bernardino-Ontario, CA MSA',\n",
       "       'Detroit-Warren-Dearborn, MI MSA',\n",
       "       'Seattle-Tacoma-Bellevue, WA MSA',\n",
       "       'Minneapolis-St. Paul-Bloomington, MN-WI MSA',\n",
       "       'San Diego-Carlsbad, CA MSA',\n",
       "       'Tampa-St. Petersburg-Clearwater, FL MSA',\n",
       "       'Denver-Aurora-Lakewood, CO MSA',\n",
       "       'Baltimore-Columbia-Towson, MD MSA', 'St. Louis, MO-IL MSA',\n",
       "       'Charlotte-Concord-Gastonia, NC-SC MSA',\n",
       "       'Orlando-Kissimmee-Sanford, FL MSA',\n",
       "       'San Antonio-New Braunfels, TX MSA',\n",
       "       'Portland-Vancouver-Hillsboro, OR-WA MSA', 'Pittsburgh, PA MSA',\n",
       "       'Sacramento–Roseville–Arden-Arcade, CA MSA',\n",
       "       'Las Vegas-Henderson-Paradise, NV MSA', 'Cincinnati, OH-KY-IN MSA',\n",
       "       'Kansas City, MO-KS MSA', 'Austin-Round Rock, TX MSA',\n",
       "       'Columbus, OH MSA', 'Cleveland-Elyria, OH MSA',\n",
       "       'Indianapolis-Carmel-Anderson, IN MSA',\n",
       "       'San Jose-Sunnyvale-Santa Clara, CA MSA',\n",
       "       'Nashville-Davidson–Murfreesboro–Franklin, TN MSA',\n",
       "       'Virginia Beach-Norfolk-Newport News, VA-NC MSA',\n",
       "       'Providence-Warwick, RI-MA MSA',\n",
       "       'Milwaukee-Waukesha-West Allis, WI MSA', 'Jacksonville, FL MSA',\n",
       "       'Oklahoma City, OK MSA', 'Memphis, TN-MS-AR MSA',\n",
       "       'Raleigh-Cary, NC MSA', 'Richmond, VA MSA',\n",
       "       'Louisville–Jefferson County, KY-IN MSA',\n",
       "       'New Orleans-Metairie, LA MSA',\n",
       "       'Hartford-West Hartford-East Hartford, CT MSA',\n",
       "       'Salt Lake City, UT MSA', 'Birmingham-Hoover, AL MSA',\n",
       "       'Buffalo-Cheektowaga-Niagara Falls, NY MSA', 'Rochester, NY MSA',\n",
       "       'Grand Rapids-Wyoming, MI MSA', 'Tucson, AZ MSA', 'Tulsa, OK MSA',\n",
       "       'Fresno, CA MSA', 'Urban Honolulu, HI MSA',\n",
       "       'Bridgeport-Stamford-Norwalk, CT MSA', 'Worcester, MA-CT MSA',\n",
       "       'Omaha-Council Bluffs, NE-IA MSA', 'Albuquerque, NM MSA',\n",
       "       'Greenville-Anderson-Mauldin, SC MSA', 'Bakersfield, CA MSA',\n",
       "       'Albany-Schenectady-Troy, NY MSA', 'Knoxville, TN MSA',\n",
       "       'McAllen-Edinburg-Mission, TX MSA', 'New Haven-Milford, CT MSA',\n",
       "       'Oxnard-Thousand Oaks-Ventura, CA MSA', 'El Paso, TX MSA',\n",
       "       'Allentown-Bethlehem-Easton, PA-NJ MSA', 'Baton Rouge, LA MSA',\n",
       "       'Columbia, SC MSA', 'North Port-Sarasota-Bradenton, FL MSA',\n",
       "       'Dayton, OH MSA', 'Charleston-North Charleston, SC MSA',\n",
       "       'Greensboro-High Point, NC MSA', 'Stockton-Lodi, CA MSA',\n",
       "       'Cape Coral-Fort Myers, FL MSA',\n",
       "       'Little Rock-North Little Rock-Conway, AR MSA',\n",
       "       'Colorado Springs, CO MSA', 'Boise City, ID MSA', 'Akron, OH MSA',\n",
       "       'Lakeland-Winter Haven, FL MSA', 'Winston-Salem, NC MSA',\n",
       "       'Ogden-Clearfield, UT MSA', 'Syracuse, NY MSA', 'Madison, WI MSA',\n",
       "       'Deltona-Daytona Beach-Ormond Beach, FL MSA',\n",
       "       'Des Moines-West Des Moines, IA MSA', 'Wichita, KS MSA',\n",
       "       'Springfield, MA MSA', 'Provo-Orem, UT MSA', 'Toledo, OH MSA',\n",
       "       'Augusta-Richmond County, GA-SC MSA',\n",
       "       'Palm Bay-Melbourne-Titusville, FL MSA', 'Jackson, MS MSA',\n",
       "       'Harrisburg-Carlisle, PA MSA', 'Durham-Chapel Hill, NC MSA',\n",
       "       'Spokane-Spokane Valley, WA MSA', 'Chattanooga, TN-GA MSA',\n",
       "       'Scranton–Wilkes-Barre–Hazleton, PA MSA', 'Modesto, CA MSA',\n",
       "       'Lancaster, PA MSA', 'Youngstown-Warren-Boardman, OH-PA MSA',\n",
       "       'Fayetteville-Springdale-Rogers, AR-MO MSA',\n",
       "       'Portland-South Portland, ME MSA', 'Lexington-Fayette, KY MSA',\n",
       "       'Santa Rosa, CA MSA', 'Lafayette, LA MSA',\n",
       "       'Pensacola-Ferry Pass-Brent, FL MSA',\n",
       "       'Lansing-East Lansing, MI MSA', 'Port St. Lucie, FL MSA',\n",
       "       'Reno, NV MSA', 'Visalia-Porterville, CA MSA',\n",
       "       'Myrtle Beach-Conway-North Myrtle Beach, SC-NC MSA',\n",
       "       'Springfield, MO MSA', 'Asheville, NC MSA', 'Huntsville, AL MSA',\n",
       "       'Corpus Christi, TX MSA', 'Santa Maria-Santa Barbara, CA MSA',\n",
       "       'York-Hanover, PA MSA', 'Vallejo-Fairfield, CA MSA',\n",
       "       'Killeen-Temple, TX MSA', 'Shreveport-Bossier City, LA MSA',\n",
       "       'Salinas, CA MSA', 'Fort Wayne, IN MSA', 'Salem, OR MSA',\n",
       "       'Brownsville-Harlingen, TX MSA', 'Reading, PA MSA',\n",
       "       'Mobile, AL MSA', 'Beaumont-Port Arthur, TX MSA',\n",
       "       'Manchester-Nashua, NH MSA', 'Flint, MI MSA',\n",
       "       'Salisbury, MD-DE MSA', 'Anchorage, AK MSA',\n",
       "       'Canton-Massillon, OH MSA', 'Gulfport-Biloxi-Pascagoula, MS MSA',\n",
       "       'Savannah, GA MSA', 'Fayetteville, NC MSA', 'Tallahassee, FL MSA',\n",
       "       'Davenport-Moline-Rock Island, IA-IL MSA', 'Eugene, OR MSA',\n",
       "       'Trenton, NJ MSA', 'Montgomery, AL MSA',\n",
       "       'Naples-Immokalee-Marco Island, FL MSA', 'Peoria, IL MSA',\n",
       "       'Ann Arbor, MI MSA', 'Hickory-Lenoir-Morganton, NC MSA',\n",
       "       'Huntington-Ashland, WV-KY-OH MSA', 'Ocala, FL MSA',\n",
       "       'Fort Collins, CO MSA', 'Kalamazoo-Portage, MI MSA',\n",
       "       'Rockford, IL MSA', 'Spartanburg, SC MSA', 'Lincoln, NE MSA',\n",
       "       'Boulder, CO MSA', 'South Bend-Mishawaka, IN-MI MSA',\n",
       "       'Green Bay, WI MSA', 'Lubbock, TX MSA', 'Evansville, IN-KY MSA',\n",
       "       'Roanoke, VA MSA', 'Kingsport-Bristol-Bristol, TN-VA MSA',\n",
       "       'Greeley, CO MSA', 'Columbus, GA-AL MSA', 'Utica-Rome, NY MSA',\n",
       "       'Kennewick-Richland, WA MSA', 'Wilmington, NC MSA',\n",
       "       'Clarksville, TN-KY MSA', 'Gainesville, FL MSA',\n",
       "       'San Luis Obispo-Paso Robles-Arroyo Grande, CA MSA',\n",
       "       'Fort Smith, AR-OK MSA', 'Olympia-Tumwater, WA MSA',\n",
       "       'Duluth, MN-WI MSA', 'Santa Cruz-Watsonville, CA MSA',\n",
       "       'Laredo, TX MSA', 'Erie, PA MSA', 'Merced, CA MSA',\n",
       "       'Crestview-Fort Walton Beach-Destin, FL MSA',\n",
       "       'Cedar Rapids, IA MSA', 'Atlantic City-Hammonton, NJ MSA',\n",
       "       'Norwich-New London, CT MSA', 'Waco, TX MSA',\n",
       "       'Bremerton-Silverdale, WA MSA',\n",
       "       'Hagerstown-Martinsburg, MD-WV MSA', 'Amarillo, TX MSA',\n",
       "       'Danbury, CT MSA', 'Lynchburg, VA MSA', 'Sioux Falls, SD MSA',\n",
       "       'College Station-Bryan, TX MSA', 'Yakima, WA MSA',\n",
       "       'Tuscaloosa, AL MSA', 'Binghamton, NY MSA', 'Fargo, ND-MN MSA',\n",
       "       'Champaign-Urbana, IL MSA', 'Appleton, WI MSA',\n",
       "       'Charlottesville, VA MSA', 'Topeka, KS MSA', 'Chico, CA MSA',\n",
       "       'Macon-Bibb County, GA MSA', 'Prescott, AZ MSA', 'Tyler, TX MSA',\n",
       "       'Bellingham, WA MSA', 'Lafayette-West Lafayette, IN MSA',\n",
       "       'Burlington-South Burlington, VT MSA', 'Rochester, MN MSA',\n",
       "       'Longview, TX MSA', 'Medford, OR MSA', 'Las Cruces, NM MSA',\n",
       "       'Hilton Head Island-Bluffton-Beaufort, SC MSA',\n",
       "       'Charleston, WV MSA', 'Barnstable Town, MA MSA',\n",
       "       'Daphne-Fairhope-Foley, AL MSA', 'Houma-Thibodaux, LA MSA',\n",
       "       'Lake Charles, LA MSA', 'Athens-Clarke County, GA MSA',\n",
       "       'Springfield, IL MSA', 'Yuma, AZ MSA',\n",
       "       'Lake Havasu City-Kingman, AZ MSA', 'Florence, SC MSA',\n",
       "       'Elkhart-Goshen, IN MSA', 'Johnson City, TN MSA',\n",
       "       'Panama City, FL MSA', 'Gainesville, GA MSA', 'St. Cloud, MN MSA',\n",
       "       'Racine, WI MSA', 'Jacksonville, NC MSA', 'Saginaw, MI MSA',\n",
       "       'Warner Robins, GA MSA', 'Bloomington, IL MSA',\n",
       "       'Bend-Redmond, OR MSA',\n",
       "       'Blacksburg-Christiansburg-Radford, VA MSA', 'El Centro, CA MSA',\n",
       "       'Punta Gorda, FL MSA', 'Redding, CA MSA', 'Kingston, NY MSA',\n",
       "       'Greenville, NC MSA', 'Joplin, MO MSA', 'Monroe, LA MSA',\n",
       "       'Columbia, MO MSA', 'Dover, DE MSA', 'Bowling Green, KY MSA',\n",
       "       'Muskegon, MI MSA', 'Yuba City, CA MSA', 'Iowa City, IA MSA',\n",
       "       'Midland, TX MSA', 'Billings, MT MSA', 'Oshkosh-Neenah, WI MSA',\n",
       "       'Abilene, TX MSA', 'Terre Haute, IN MSA',\n",
       "       'Waterloo-Cedar Falls, IA MSA', 'Sioux City, IA-NE-SD MSA',\n",
       "       'East Stroudsburg, PA MSA', 'Bloomington, IN MSA',\n",
       "       'Eau Claire, WI MSA', 'Pueblo, CO MSA',\n",
       "       'Kahului-Wailuku-Lahaina, HI MSA', 'St. George, UT MSA',\n",
       "       'State College, PA MSA', 'Burlington, NC MSA',\n",
       "       'Janesville-Beloit, WI MSA', 'Auburn-Opelika, AL MSA',\n",
       "       'Jackson, MI MSA', \"Coeur d'Alene, ID MSA\", 'Odessa, TX MSA',\n",
       "       'Madera, CA MSA', 'Sebastian-Vero Beach, FL MSA',\n",
       "       'Niles-Benton Harbor, MI MSA', 'Chambersburg-Waynesboro, PA MSA',\n",
       "       'Alexandria, LA MSA', 'Vineland-Bridgeton, NJ MSA',\n",
       "       'Bangor, ME MSA', 'Decatur, AL MSA', 'Grand Junction, CO MSA',\n",
       "       'Jefferson City, MO MSA', 'Albany, GA MSA',\n",
       "       'Wichita Falls, TX MSA', 'Elizabethtown-Fort Knox, KY MSA',\n",
       "       'Texarkana, TX-AR MSA', 'Hanford-Corcoran, CA MSA',\n",
       "       'Monroe, MI MSA', 'Hattiesburg, MS MSA', 'Santa Fe, NM MSA',\n",
       "       'Dothan, AL MSA', 'Florence-Muscle Shoals, AL MSA',\n",
       "       'Rapid City, SD MSA', 'Rocky Mount, NC MSA',\n",
       "       'Homosassa Springs, FL MSA', 'Idaho Falls, ID MSA',\n",
       "       'Valdosta, GA MSA', 'Dalton, GA MSA', 'Wheeling, WV-OH MSA',\n",
       "       'Napa, CA MSA', 'Flagstaff, AZ MSA', 'Lebanon, PA MSA',\n",
       "       'Morgantown, WV MSA', 'Logan, UT-ID MSA', 'Winchester, VA-WV MSA',\n",
       "       'La Crosse-Onalaska, WI-MN MSA', 'Wausau, WI MSA',\n",
       "       'Springfield, OH MSA', 'Harrisonburg, VA MSA',\n",
       "       'Battle Creek, MI MSA', 'Johnstown, PA MSA', 'Hammond, LA MSA',\n",
       "       'Bismarck, ND MSA', 'Jonesboro, AR MSA', 'Sherman-Denison, TX MSA',\n",
       "       'Jackson, TN MSA', 'Lawton, OK MSA', 'St. Joseph, MO-KS MSA',\n",
       "       'Farmington, NM MSA', 'Pittsfield, MA MSA', 'Glens Falls, NY MSA',\n",
       "       'Mount Vernon-Anacortes, WA MSA', 'Carbondale-Marion, IL MSA',\n",
       "       'The Villages, FL MSA', 'Albany, OR MSA', 'New Bern, NC MSA',\n",
       "       'Sierra Vista-Douglas, AZ MSA', 'Goldsboro, NC MSA',\n",
       "       'Altoona, PA MSA', 'Cleveland, TN MSA',\n",
       "       'Staunton-Waynesboro, VA MSA', 'Lawrence, KS MSA',\n",
       "       'Mansfield, OH MSA', 'San Angelo, TX MSA', 'Beckley, WV MSA',\n",
       "       'Wenatchee, WA MSA', 'Owensboro, KY MSA',\n",
       "       'Weirton-Steubenville, WV-OH MSA', 'Brunswick, GA MSA',\n",
       "       'Morristown, TN MSA', 'Missoula, MT MSA', 'Sheboygan, WI MSA',\n",
       "       'Muncie, IN MSA', 'Anniston-Oxford-Jacksonville, AL MSA',\n",
       "       'Watertown-Fort Drum, NY MSA', 'Williamsport, PA MSA',\n",
       "       'California-Lexington Park, MD MSA',\n",
       "       'Michigan City-La Porte, IN MSA', 'Kankakee, IL MSA',\n",
       "       'Lewiston-Auburn, ME MSA', 'Longview, WA MSA', 'Sumter, SC MSA',\n",
       "       'Decatur, IL MSA', 'Ithaca, NY MSA', 'Bay City, MI MSA',\n",
       "       'Lima, OH MSA', 'Sebring, FL MSA', 'Gadsden, AL MSA',\n",
       "       'Fond du Lac, WI MSA', 'Grand Forks, ND-MN MSA',\n",
       "       'Gettysburg, PA MSA', 'Mankato-North Mankato, MN MSA',\n",
       "       'Fairbanks, AK MSA', 'Victoria, TX MSA', 'Cumberland, MD-WV MSA',\n",
       "       'Hot Springs, AR MSA', 'Cheyenne, WY MSA', 'Manhattan, KS MSA',\n",
       "       'Rome, GA MSA', 'Ames, IA MSA', 'Dubuque, IA MSA',\n",
       "       'Cape Girardeau, MO-IL MSA', 'Ocean City, NJ MSA',\n",
       "       'Pine Bluff, AR MSA', 'Corvallis, OR MSA',\n",
       "       'Parkersburg-Vienna, WV MSA', 'Grants Pass, OR MSA',\n",
       "       'Elmira, NY MSA', 'Pocatello, ID MSA', 'Grand Island, NE MSA',\n",
       "       'Bloomsburg-Berwick, PA MSA', 'Midland, MI MSA', 'Kokomo, IN MSA',\n",
       "       'Columbus, IN MSA', 'Great Falls, MT MSA', 'Hinesville, GA MSA',\n",
       "       'Casper, WY MSA', 'Danville, IL MSA', 'Walla Walla, WA MSA',\n",
       "       'Lewiston, ID-WA MSA', 'Enid, OK MSA', 'Carson City, NV MSA'],\n",
       "      dtype=object)"
      ]
     },
     "execution_count": 147,
     "metadata": {},
     "output_type": "execute_result"
    }
   ],
   "source": [
    "msas_array[1:, 1]"
   ]
  },
  {
   "cell_type": "code",
   "execution_count": null,
   "metadata": {},
   "outputs": [],
   "source": []
  }
 ],
 "metadata": {
  "kernelspec": {
   "display_name": "Python 3",
   "language": "python",
   "name": "python3"
  },
  "language_info": {
   "codemirror_mode": {
    "name": "ipython",
    "version": 3
   },
   "file_extension": ".py",
   "mimetype": "text/x-python",
   "name": "python",
   "nbconvert_exporter": "python",
   "pygments_lexer": "ipython3",
   "version": "3.5.5"
  }
 },
 "nbformat": 4,
 "nbformat_minor": 2
}
