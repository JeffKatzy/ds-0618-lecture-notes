{
 "cells": [
  {
   "cell_type": "code",
   "execution_count": 2,
   "metadata": {},
   "outputs": [],
   "source": [
    "import pandas as pd"
   ]
  },
  {
   "cell_type": "code",
   "execution_count": 20,
   "metadata": {},
   "outputs": [],
   "source": [
    "state_populations = \"https://en.wikipedia.org/wiki/List_of_U.S._states_and_territories_by_population\""
   ]
  },
  {
   "cell_type": "markdown",
   "metadata": {},
   "source": [
    "[See other nice lists](https://en.wikipedia.org/wiki/Category:Lists_of_countries)"
   ]
  },
  {
   "cell_type": "code",
   "execution_count": 272,
   "metadata": {},
   "outputs": [],
   "source": [
    "states = pd.read_html(state_populations)[2]\n",
    "states_series = states[0][1:]"
   ]
  },
  {
   "cell_type": "code",
   "execution_count": 273,
   "metadata": {},
   "outputs": [
    {
     "data": {
      "text/plain": [
       "pandas.core.series.Series"
      ]
     },
     "execution_count": 273,
     "metadata": {},
     "output_type": "execute_result"
    }
   ],
   "source": [
    "type(states_series)"
   ]
  },
  {
   "cell_type": "code",
   "execution_count": 280,
   "metadata": {},
   "outputs": [
    {
     "data": {
      "text/plain": [
       "{'_data': SingleBlockManager\n",
       " Items: RangeIndex(start=1, stop=72, step=1)\n",
       " ObjectBlock: 71 dtype: object,\n",
       " '_index': RangeIndex(start=1, stop=72, step=1),\n",
       " '_is_copy': None,\n",
       " '_item_cache': {},\n",
       " '_name': 0,\n",
       " '_subtyp': 'series',\n",
       " 'str': <pandas.core.strings.StringMethods at 0x11418b358>}"
      ]
     },
     "execution_count": 280,
     "metadata": {},
     "output_type": "execute_result"
    }
   ],
   "source": [
    "vars(states_series)"
   ]
  },
  {
   "cell_type": "code",
   "execution_count": 290,
   "metadata": {},
   "outputs": [
    {
     "data": {
      "text/plain": [
       "1    Massachusetts\n",
       "2      Connecticut\n",
       "3            Maine\n",
       "4    New Hampshire\n",
       "5     Rhode Island\n",
       "Name: 0, dtype: object"
      ]
     },
     "execution_count": 290,
     "metadata": {},
     "output_type": "execute_result"
    }
   ],
   "source": [
    "states_series.iloc[0:5]"
   ]
  },
  {
   "cell_type": "code",
   "execution_count": 291,
   "metadata": {},
   "outputs": [
    {
     "data": {
      "text/plain": [
       "1    Massachusetts\n",
       "2      Connecticut\n",
       "3            Maine\n",
       "Name: 0, dtype: object"
      ]
     },
     "execution_count": 291,
     "metadata": {},
     "output_type": "execute_result"
    }
   ],
   "source": [
    "states_series.loc[1:3]"
   ]
  },
  {
   "cell_type": "code",
   "execution_count": 294,
   "metadata": {},
   "outputs": [],
   "source": [
    "first_three = states_series.iloc[0:3]"
   ]
  },
  {
   "cell_type": "code",
   "execution_count": 325,
   "metadata": {},
   "outputs": [],
   "source": [
    "first_three.index = ['mass', 'conn', 'maine']"
   ]
  },
  {
   "cell_type": "code",
   "execution_count": 329,
   "metadata": {},
   "outputs": [
    {
     "data": {
      "text/plain": [
       "mass     Massachusetts\n",
       "conn       Connecticut\n",
       "maine            Maine\n",
       "Name: 0, dtype: object"
      ]
     },
     "execution_count": 329,
     "metadata": {},
     "output_type": "execute_result"
    }
   ],
   "source": [
    "first_three"
   ]
  },
  {
   "cell_type": "code",
   "execution_count": 330,
   "metadata": {},
   "outputs": [
    {
     "data": {
      "text/plain": [
       "Index(['mass', 'conn', 'maine'], dtype='object')"
      ]
     },
     "execution_count": 330,
     "metadata": {},
     "output_type": "execute_result"
    }
   ],
   "source": [
    "first_three.keys()"
   ]
  },
  {
   "cell_type": "code",
   "execution_count": 331,
   "metadata": {},
   "outputs": [
    {
     "data": {
      "text/plain": [
       "[('mass', 'Massachusetts'), ('conn', 'Connecticut'), ('maine', 'Maine')]"
      ]
     },
     "execution_count": 331,
     "metadata": {},
     "output_type": "execute_result"
    }
   ],
   "source": [
    "list(first_three.items())"
   ]
  },
  {
   "cell_type": "code",
   "execution_count": 341,
   "metadata": {},
   "outputs": [
    {
     "data": {
      "text/plain": [
       "mass    Massachusetts\n",
       "Name: 0, dtype: object"
      ]
     },
     "execution_count": 341,
     "metadata": {},
     "output_type": "execute_result"
    }
   ],
   "source": [
    "first_three[first_three == 'Massachusetts']"
   ]
  },
  {
   "cell_type": "code",
   "execution_count": 344,
   "metadata": {},
   "outputs": [],
   "source": [
    "df_states = pd.DataFrame({'state_names': states_series})"
   ]
  },
  {
   "cell_type": "code",
   "execution_count": 352,
   "metadata": {},
   "outputs": [],
   "source": [
    "df_states.index = states_series"
   ]
  },
  {
   "cell_type": "code",
   "execution_count": 357,
   "metadata": {},
   "outputs": [
    {
     "data": {
      "text/html": [
       "<div>\n",
       "<style scoped>\n",
       "    .dataframe tbody tr th:only-of-type {\n",
       "        vertical-align: middle;\n",
       "    }\n",
       "\n",
       "    .dataframe tbody tr th {\n",
       "        vertical-align: top;\n",
       "    }\n",
       "\n",
       "    .dataframe thead th {\n",
       "        text-align: right;\n",
       "    }\n",
       "</style>\n",
       "<table border=\"1\" class=\"dataframe\">\n",
       "  <thead>\n",
       "    <tr style=\"text-align: right;\">\n",
       "      <th></th>\n",
       "      <th>state_names</th>\n",
       "    </tr>\n",
       "    <tr>\n",
       "      <th>0</th>\n",
       "      <th></th>\n",
       "    </tr>\n",
       "  </thead>\n",
       "  <tbody>\n",
       "    <tr>\n",
       "      <th>Massachusetts</th>\n",
       "      <td>Massachusetts</td>\n",
       "    </tr>\n",
       "    <tr>\n",
       "      <th>Connecticut</th>\n",
       "      <td>Connecticut</td>\n",
       "    </tr>\n",
       "    <tr>\n",
       "      <th>Maine</th>\n",
       "      <td>Maine</td>\n",
       "    </tr>\n",
       "    <tr>\n",
       "      <th>New Hampshire</th>\n",
       "      <td>New Hampshire</td>\n",
       "    </tr>\n",
       "    <tr>\n",
       "      <th>Rhode Island</th>\n",
       "      <td>Rhode Island</td>\n",
       "    </tr>\n",
       "    <tr>\n",
       "      <th>Vermont</th>\n",
       "      <td>Vermont</td>\n",
       "    </tr>\n",
       "    <tr>\n",
       "      <th>New England</th>\n",
       "      <td>New England</td>\n",
       "    </tr>\n",
       "    <tr>\n",
       "      <th>New York</th>\n",
       "      <td>New York</td>\n",
       "    </tr>\n",
       "    <tr>\n",
       "      <th>Pennsylvania</th>\n",
       "      <td>Pennsylvania</td>\n",
       "    </tr>\n",
       "    <tr>\n",
       "      <th>New Jersey</th>\n",
       "      <td>New Jersey</td>\n",
       "    </tr>\n",
       "    <tr>\n",
       "      <th>Mid-Atlantic</th>\n",
       "      <td>Mid-Atlantic</td>\n",
       "    </tr>\n",
       "    <tr>\n",
       "      <th>Northeast</th>\n",
       "      <td>Northeast</td>\n",
       "    </tr>\n",
       "    <tr>\n",
       "      <th>Florida</th>\n",
       "      <td>Florida</td>\n",
       "    </tr>\n",
       "    <tr>\n",
       "      <th>Georgia</th>\n",
       "      <td>Georgia</td>\n",
       "    </tr>\n",
       "    <tr>\n",
       "      <th>North Carolina</th>\n",
       "      <td>North Carolina</td>\n",
       "    </tr>\n",
       "    <tr>\n",
       "      <th>Virginia</th>\n",
       "      <td>Virginia</td>\n",
       "    </tr>\n",
       "    <tr>\n",
       "      <th>Maryland</th>\n",
       "      <td>Maryland</td>\n",
       "    </tr>\n",
       "    <tr>\n",
       "      <th>South Carolina</th>\n",
       "      <td>South Carolina</td>\n",
       "    </tr>\n",
       "    <tr>\n",
       "      <th>West Virginia</th>\n",
       "      <td>West Virginia</td>\n",
       "    </tr>\n",
       "    <tr>\n",
       "      <th>Delaware</th>\n",
       "      <td>Delaware</td>\n",
       "    </tr>\n",
       "    <tr>\n",
       "      <th>District of Columbia</th>\n",
       "      <td>District of Columbia</td>\n",
       "    </tr>\n",
       "    <tr>\n",
       "      <th>South Atlantic</th>\n",
       "      <td>South Atlantic</td>\n",
       "    </tr>\n",
       "    <tr>\n",
       "      <th>Tennessee</th>\n",
       "      <td>Tennessee</td>\n",
       "    </tr>\n",
       "    <tr>\n",
       "      <th>Alabama</th>\n",
       "      <td>Alabama</td>\n",
       "    </tr>\n",
       "    <tr>\n",
       "      <th>Kentucky</th>\n",
       "      <td>Kentucky</td>\n",
       "    </tr>\n",
       "    <tr>\n",
       "      <th>Mississippi</th>\n",
       "      <td>Mississippi</td>\n",
       "    </tr>\n",
       "    <tr>\n",
       "      <th>East South Central</th>\n",
       "      <td>East South Central</td>\n",
       "    </tr>\n",
       "    <tr>\n",
       "      <th>Texas</th>\n",
       "      <td>Texas</td>\n",
       "    </tr>\n",
       "    <tr>\n",
       "      <th>Louisiana</th>\n",
       "      <td>Louisiana</td>\n",
       "    </tr>\n",
       "    <tr>\n",
       "      <th>Oklahoma</th>\n",
       "      <td>Oklahoma</td>\n",
       "    </tr>\n",
       "    <tr>\n",
       "      <th>...</th>\n",
       "      <td>...</td>\n",
       "    </tr>\n",
       "    <tr>\n",
       "      <th>Iowa</th>\n",
       "      <td>Iowa</td>\n",
       "    </tr>\n",
       "    <tr>\n",
       "      <th>Kansas</th>\n",
       "      <td>Kansas</td>\n",
       "    </tr>\n",
       "    <tr>\n",
       "      <th>Nebraska</th>\n",
       "      <td>Nebraska</td>\n",
       "    </tr>\n",
       "    <tr>\n",
       "      <th>South Dakota</th>\n",
       "      <td>South Dakota</td>\n",
       "    </tr>\n",
       "    <tr>\n",
       "      <th>North Dakota</th>\n",
       "      <td>North Dakota</td>\n",
       "    </tr>\n",
       "    <tr>\n",
       "      <th>West North Central</th>\n",
       "      <td>West North Central</td>\n",
       "    </tr>\n",
       "    <tr>\n",
       "      <th>Midwest</th>\n",
       "      <td>Midwest</td>\n",
       "    </tr>\n",
       "    <tr>\n",
       "      <th>Arizona</th>\n",
       "      <td>Arizona</td>\n",
       "    </tr>\n",
       "    <tr>\n",
       "      <th>Colorado</th>\n",
       "      <td>Colorado</td>\n",
       "    </tr>\n",
       "    <tr>\n",
       "      <th>Utah</th>\n",
       "      <td>Utah</td>\n",
       "    </tr>\n",
       "    <tr>\n",
       "      <th>Nevada</th>\n",
       "      <td>Nevada</td>\n",
       "    </tr>\n",
       "    <tr>\n",
       "      <th>New Mexico</th>\n",
       "      <td>New Mexico</td>\n",
       "    </tr>\n",
       "    <tr>\n",
       "      <th>Idaho</th>\n",
       "      <td>Idaho</td>\n",
       "    </tr>\n",
       "    <tr>\n",
       "      <th>Montana</th>\n",
       "      <td>Montana</td>\n",
       "    </tr>\n",
       "    <tr>\n",
       "      <th>Wyoming</th>\n",
       "      <td>Wyoming</td>\n",
       "    </tr>\n",
       "    <tr>\n",
       "      <th>Mountain</th>\n",
       "      <td>Mountain</td>\n",
       "    </tr>\n",
       "    <tr>\n",
       "      <th>California</th>\n",
       "      <td>California</td>\n",
       "    </tr>\n",
       "    <tr>\n",
       "      <th>Washington</th>\n",
       "      <td>Washington</td>\n",
       "    </tr>\n",
       "    <tr>\n",
       "      <th>Oregon</th>\n",
       "      <td>Oregon</td>\n",
       "    </tr>\n",
       "    <tr>\n",
       "      <th>Hawaii</th>\n",
       "      <td>Hawaii</td>\n",
       "    </tr>\n",
       "    <tr>\n",
       "      <th>Alaska</th>\n",
       "      <td>Alaska</td>\n",
       "    </tr>\n",
       "    <tr>\n",
       "      <th>Pacific</th>\n",
       "      <td>Pacific</td>\n",
       "    </tr>\n",
       "    <tr>\n",
       "      <th>West</th>\n",
       "      <td>West</td>\n",
       "    </tr>\n",
       "    <tr>\n",
       "      <th>50 states and D.C.</th>\n",
       "      <td>50 states and D.C.</td>\n",
       "    </tr>\n",
       "    <tr>\n",
       "      <th>Puerto Rico</th>\n",
       "      <td>Puerto Rico</td>\n",
       "    </tr>\n",
       "    <tr>\n",
       "      <th>Guam</th>\n",
       "      <td>Guam</td>\n",
       "    </tr>\n",
       "    <tr>\n",
       "      <th>U.S. Virgin Islands</th>\n",
       "      <td>U.S. Virgin Islands</td>\n",
       "    </tr>\n",
       "    <tr>\n",
       "      <th>American Samoa</th>\n",
       "      <td>American Samoa</td>\n",
       "    </tr>\n",
       "    <tr>\n",
       "      <th>Northern Mariana Islands</th>\n",
       "      <td>Northern Mariana Islands</td>\n",
       "    </tr>\n",
       "    <tr>\n",
       "      <th>Total Territories</th>\n",
       "      <td>Total Territories</td>\n",
       "    </tr>\n",
       "  </tbody>\n",
       "</table>\n",
       "<p>71 rows × 1 columns</p>\n",
       "</div>"
      ],
      "text/plain": [
       "                                       state_names\n",
       "0                                                 \n",
       "Massachusetts                        Massachusetts\n",
       "Connecticut                            Connecticut\n",
       "Maine                                        Maine\n",
       "New Hampshire                        New Hampshire\n",
       "Rhode Island                          Rhode Island\n",
       "Vermont                                    Vermont\n",
       "New England                            New England\n",
       "New York                                  New York\n",
       "Pennsylvania                          Pennsylvania\n",
       "New Jersey                              New Jersey\n",
       "Mid-Atlantic                          Mid-Atlantic\n",
       "Northeast                                Northeast\n",
       "Florida                                    Florida\n",
       "Georgia                                    Georgia\n",
       "North Carolina                      North Carolina\n",
       "Virginia                                  Virginia\n",
       "Maryland                                  Maryland\n",
       "South Carolina                      South Carolina\n",
       "West Virginia                        West Virginia\n",
       "Delaware                                  Delaware\n",
       "District of Columbia          District of Columbia\n",
       "South Atlantic                      South Atlantic\n",
       "Tennessee                                Tennessee\n",
       "Alabama                                    Alabama\n",
       "Kentucky                                  Kentucky\n",
       "Mississippi                            Mississippi\n",
       "East South Central              East South Central\n",
       "Texas                                        Texas\n",
       "Louisiana                                Louisiana\n",
       "Oklahoma                                  Oklahoma\n",
       "...                                            ...\n",
       "Iowa                                          Iowa\n",
       "Kansas                                      Kansas\n",
       "Nebraska                                  Nebraska\n",
       "South Dakota                          South Dakota\n",
       "North Dakota                          North Dakota\n",
       "West North Central              West North Central\n",
       "Midwest                                    Midwest\n",
       "Arizona                                    Arizona\n",
       "Colorado                                  Colorado\n",
       "Utah                                          Utah\n",
       "Nevada                                      Nevada\n",
       "New Mexico                              New Mexico\n",
       "Idaho                                        Idaho\n",
       "Montana                                    Montana\n",
       "Wyoming                                    Wyoming\n",
       "Mountain                                  Mountain\n",
       "California                              California\n",
       "Washington                              Washington\n",
       "Oregon                                      Oregon\n",
       "Hawaii                                      Hawaii\n",
       "Alaska                                      Alaska\n",
       "Pacific                                    Pacific\n",
       "West                                          West\n",
       "50 states and D.C.              50 states and D.C.\n",
       "Puerto Rico                            Puerto Rico\n",
       "Guam                                          Guam\n",
       "U.S. Virgin Islands            U.S. Virgin Islands\n",
       "American Samoa                      American Samoa\n",
       "Northern Mariana Islands  Northern Mariana Islands\n",
       "Total Territories                Total Territories\n",
       "\n",
       "[71 rows x 1 columns]"
      ]
     },
     "execution_count": 357,
     "metadata": {},
     "output_type": "execute_result"
    }
   ],
   "source": [
    "df_states"
   ]
  },
  {
   "cell_type": "code",
   "execution_count": 358,
   "metadata": {},
   "outputs": [],
   "source": [
    "states = pd.read_html(state_populations)"
   ]
  },
  {
   "cell_type": "code",
   "execution_count": 366,
   "metadata": {},
   "outputs": [],
   "source": [
    "state_columns = states[2].loc[0]"
   ]
  },
  {
   "cell_type": "code",
   "execution_count": 371,
   "metadata": {},
   "outputs": [],
   "source": [
    "updated_df = states[2][1:]"
   ]
  },
  {
   "cell_type": "code",
   "execution_count": 372,
   "metadata": {},
   "outputs": [],
   "source": [
    "updated_df.columns = state_columns"
   ]
  },
  {
   "cell_type": "code",
   "execution_count": 400,
   "metadata": {},
   "outputs": [
    {
     "data": {
      "text/plain": [
       "1                Dassachusetts\n",
       "2                  Connecticut\n",
       "3                        Daine\n",
       "4                New Hampshire\n",
       "5                 Rhode Island\n",
       "6                      Vermont\n",
       "7                  New England\n",
       "8                     New York\n",
       "9                 Pennsylvania\n",
       "10                  New Jersey\n",
       "11                Did-Atlantic\n",
       "12                   Northeast\n",
       "13                     Florida\n",
       "14                     Georgia\n",
       "15              North Carolina\n",
       "16                    Virginia\n",
       "17                    Daryland\n",
       "18              South Carolina\n",
       "19               West Virginia\n",
       "20                    Delaware\n",
       "21        District of Columbia\n",
       "22              South Atlantic\n",
       "23                   Tennessee\n",
       "24                     Alabama\n",
       "25                    Kentucky\n",
       "26                 Dississippi\n",
       "27          East South Central\n",
       "28                       Texas\n",
       "29                   Louisiana\n",
       "30                    Oklahoma\n",
       "                ...           \n",
       "42                        Iowa\n",
       "43                      Kansas\n",
       "44                    Nebraska\n",
       "45                South Dakota\n",
       "46                North Dakota\n",
       "47          West North Central\n",
       "48                     Didwest\n",
       "49                     Arizona\n",
       "50                    Colorado\n",
       "51                        Utah\n",
       "52                      Nevada\n",
       "53                  New Dexico\n",
       "54                       Idaho\n",
       "55                     Dontana\n",
       "56                     Wyoming\n",
       "57                    Dountain\n",
       "58                  California\n",
       "59                  Washington\n",
       "60                      Oregon\n",
       "61                      Hawaii\n",
       "62                      Alaska\n",
       "63                     Pacific\n",
       "64                        West\n",
       "65          50 states and D.C.\n",
       "66                 Puerto Rico\n",
       "67                        Guam\n",
       "68         U.S. Virgin Islands\n",
       "69              American Samoa\n",
       "70    Northern Dariana Islands\n",
       "71           Total Territories\n",
       "Name: State/Territory/Division/Region, Length: 71, dtype: object"
      ]
     },
     "execution_count": 400,
     "metadata": {},
     "output_type": "execute_result"
    }
   ],
   "source": [
    "updated_df['State/Territory/Division/Region'].str.replace('M', 'D')"
   ]
  },
  {
   "cell_type": "code",
   "execution_count": 386,
   "metadata": {},
   "outputs": [],
   "source": [
    "sixers_roster = 'http://www.espn.com/nba/team/roster/_/name/phi/philadelphia-76ers'"
   ]
  },
  {
   "cell_type": "code",
   "execution_count": 389,
   "metadata": {},
   "outputs": [
    {
     "data": {
      "text/plain": [
       "[              0                  1    2    3     4    5                6  \\\n",
       " 0   Team Roster                NaN  NaN  NaN   NaN  NaN              NaN   \n",
       " 1           NO.               NAME  POS  AGE    HT   WT          COLLEGE   \n",
       " 2             0     Jerryd Bayless   PG   29   6-3  200          Arizona   \n",
       " 3            --    Wilson Chandler   SF   31   6-9  225           DePaul   \n",
       " 4            33   Robert Covington   SF   27   6-9  225  Tennessee State   \n",
       " 5            21        Joel Embiid    C   24   7-0  250           Kansas   \n",
       " 6            20     Markelle Fultz   PG   20   6-4  200       Washington   \n",
       " 7            11  Demetrius Jackson   PG   23   6-1  201       Notre Dame   \n",
       " 8             5       Amir Johnson    C   31   6-9  240              NaN   \n",
       " 9            30     Furkan Korkmaz   SG   20   6-7  190              NaN   \n",
       " 10           12     T.J. McConnell   PG   26   6-2  190          Arizona   \n",
       " 11           --       Shake Milton   SG   21   6-6  207              SMU   \n",
       " 12           31       Mike Muscala   PF   27  6-11  240         Bucknell   \n",
       " 13           17          JJ Redick   SG   34   6-4  200             Duke   \n",
       " 14            9        Dario Saric   PF   24  6-10  223              NaN   \n",
       " 15           --      Landry Shamet   PG   21   6-5  188    Wichita State   \n",
       " 16           25        Ben Simmons   PG   22  6-10  230              LSU   \n",
       " 17           --       Zhaire Smith   SG   19   6-4  199       Texas Tech   \n",
       " \n",
       "                    7  \n",
       " 0                NaN  \n",
       " 1   2018-2019 SALARY  \n",
       " 2         $8,575,916  \n",
       " 3        $12,800,562  \n",
       " 4        $10,464,092  \n",
       " 5        $25,467,250  \n",
       " 6         $8,339,880  \n",
       " 7                NaN  \n",
       " 8         $1,512,601  \n",
       " 9         $1,740,000  \n",
       " 10        $1,600,520  \n",
       " 11               NaN  \n",
       " 12        $5,000,000  \n",
       " 13       $12,250,000  \n",
       " 14        $2,526,840  \n",
       " 15        $1,703,649  \n",
       " 16        $6,434,520  \n",
       " 17        $2,526,840  ,                     0\n",
       " 0  Coach: Brett Brown]"
      ]
     },
     "execution_count": 389,
     "metadata": {},
     "output_type": "execute_result"
    }
   ],
   "source": [
    "pd.read_html(sixers_roster)"
   ]
  },
  {
   "cell_type": "code",
   "execution_count": null,
   "metadata": {},
   "outputs": [],
   "source": []
  }
 ],
 "metadata": {
  "kernelspec": {
   "display_name": "Python 3",
   "language": "python",
   "name": "python3"
  },
  "language_info": {
   "codemirror_mode": {
    "name": "ipython",
    "version": 3
   },
   "file_extension": ".py",
   "mimetype": "text/x-python",
   "name": "python",
   "nbconvert_exporter": "python",
   "pygments_lexer": "ipython3",
   "version": "3.5.5"
  }
 },
 "nbformat": 4,
 "nbformat_minor": 2
}
