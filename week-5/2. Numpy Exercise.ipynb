{
 "cells": [
  {
   "cell_type": "markdown",
   "metadata": {},
   "source": [
    "### Presidential values"
   ]
  },
  {
   "cell_type": "code",
   "execution_count": 1,
   "metadata": {},
   "outputs": [],
   "source": [
    "import pandas as pd\n",
    "data = pd.read_table('presidents.csv', sep=\",\")"
   ]
  },
  {
   "cell_type": "code",
   "execution_count": 3,
   "metadata": {},
   "outputs": [
    {
     "data": {
      "text/plain": [
       "array([[1, 'George Washington', 189],\n",
       "       [2, 'John Adams', 170],\n",
       "       [3, 'Thomas Jefferson', 189],\n",
       "       [4, 'James Madison', 163],\n",
       "       [5, 'James Monroe', 183],\n",
       "       [6, 'John Quincy Adams', 171],\n",
       "       [7, 'Andrew Jackson', 185],\n",
       "       [8, 'Martin Van Buren', 168],\n",
       "       [9, 'William Henry Harrison', 173],\n",
       "       [10, 'John Tyler', 183],\n",
       "       [11, 'James K. Polk', 173],\n",
       "       [12, 'Zachary Taylor', 173],\n",
       "       [13, 'Millard Fillmore', 175],\n",
       "       [14, 'Franklin Pierce', 178],\n",
       "       [15, 'James Buchanan', 183],\n",
       "       [16, 'Abraham Lincoln', 193],\n",
       "       [17, 'Andrew Johnson', 178],\n",
       "       [18, 'Ulysses S. Grant', 173],\n",
       "       [19, 'Rutherford B. Hayes', 174],\n",
       "       [20, 'James A. Garfield', 183],\n",
       "       [21, 'Chester A. Arthur', 183],\n",
       "       [23, 'Benjamin Harrison', 168],\n",
       "       [25, 'William McKinley', 170],\n",
       "       [26, 'Theodore Roosevelt', 178],\n",
       "       [27, 'William Howard Taft', 182],\n",
       "       [28, 'Woodrow Wilson', 180],\n",
       "       [29, 'Warren G. Harding', 183],\n",
       "       [30, 'Calvin Coolidge', 178],\n",
       "       [31, 'Herbert Hoover', 182],\n",
       "       [32, 'Franklin D. Roosevelt', 188],\n",
       "       [33, 'Harry S. Truman', 175],\n",
       "       [34, 'Dwight D. Eisenhower', 179],\n",
       "       [35, 'John F. Kennedy', 183],\n",
       "       [36, 'Lyndon B. Johnson', 193],\n",
       "       [37, 'Richard Nixon', 182],\n",
       "       [38, 'Gerald Ford', 183],\n",
       "       [39, 'Jimmy Carter', 177],\n",
       "       [40, 'Ronald Reagan', 185],\n",
       "       [41, 'George H. W. Bush', 188],\n",
       "       [42, 'Bill Clinton', 188],\n",
       "       [43, 'George W. Bush', 182],\n",
       "       [44, 'Barack Obama', 185]], dtype=object)"
      ]
     },
     "execution_count": 3,
     "metadata": {},
     "output_type": "execute_result"
    }
   ],
   "source": [
    "president_list = data.values\n",
    "president_list"
   ]
  },
  {
   "cell_type": "markdown",
   "metadata": {},
   "source": [
    "We want to understand the heights of our presidents (or pretend we do).  To do so we'll first calculate their heights in inches, and then we can to make sense of their heights.\n",
    "\n",
    "### Step 1\n",
    "\n",
    "First get a list of the heights.  The heights in the list are in centimeters.  \n",
    "\n",
    "* Instead set a np array of feet equal to an variable `feet`, so Washington's element should be `6`\n",
    "* Set a np array of inches to be a variable of inches\n",
    "\n",
    "Check the `datatype` of our feet and inches arrays.  Change them both to be floats, while rounding to the nearest whole number.\n",
    "\n",
    "Now use the `dstack` method to combine the two lists"
   ]
  },
  {
   "cell_type": "markdown",
   "metadata": {},
   "source": [
    "Create an array that is the total amount of inches of the presidents."
   ]
  },
  {
   "cell_type": "markdown",
   "metadata": {},
   "source": [
    "### Step 2"
   ]
  },
  {
   "cell_type": "markdown",
   "metadata": {},
   "source": [
    "Now we can begin to ask questions.  \n",
    "\n",
    "* What was the median height of the presidents\n",
    "* Were there any presidents over 6 4?\n",
    "* How many presidents were under 5 10\n",
    "* Select all presidents over 6 1 (include all attributes in their row)"
   ]
  }
 ],
 "metadata": {
  "kernelspec": {
   "display_name": "Python 3",
   "language": "python",
   "name": "python3"
  },
  "language_info": {
   "codemirror_mode": {
    "name": "ipython",
    "version": 3
   },
   "file_extension": ".py",
   "mimetype": "text/x-python",
   "name": "python",
   "nbconvert_exporter": "python",
   "pygments_lexer": "ipython3",
   "version": "3.5.5"
  }
 },
 "nbformat": 4,
 "nbformat_minor": 2
}
