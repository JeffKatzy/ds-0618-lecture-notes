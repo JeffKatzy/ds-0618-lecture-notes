{
 "cells": [
  {
   "cell_type": "markdown",
   "metadata": {},
   "source": [
    "## Continuous Distributions"
   ]
  },
  {
   "cell_type": "markdown",
   "metadata": {},
   "source": [
    "Discrete probabilities are modelled with **probability mass functions (PMF)** Pr(X = x). \n",
    "\n",
    "\n",
    "Continuous distributions are modelled using **probability density functions (PDF)**   f(X = x)"
   ]
  },
  {
   "cell_type": "markdown",
   "metadata": {},
   "source": [
    "## Uniform Distribution"
   ]
  },
  {
   "cell_type": "markdown",
   "metadata": {},
   "source": [
    "* A distribution for which all intervals of the same length have the same probability.\n",
    "* Can be either discrete or continuous"
   ]
  },
  {
   "cell_type": "markdown",
   "metadata": {},
   "source": [
    "\n",
    "**PDF**: \\begin{split}f(X=x) = \\left\\{ \\begin{array}{c} \\frac{1}{b-a}, \\text{ for } x \\in [a, b]\\\\ 0, \\text { otherwise}\\end{array} \\right.\\end{split}\n",
    "\n",
    "$E[X] = \\frac{a+b}{2}$\n",
    "\n",
    "$Var(X) = \\frac{(b-a)^2}{12}$\n",
    "\n"
   ]
  },
  {
   "cell_type": "markdown",
   "metadata": {},
   "source": [
    "### Example 1:\n",
    "\n",
    "Suppose you hear an announcement while waiting for an MTA train that states that a train will arrive within 30 minutes. Assuming an equal chance train arriving throughout that whole time frame.\n",
    "\n",
    "* **What is the expected amount of time until the train arrives?**\n",
    "* **What is the probability of the train coming within 25 min?**\n",
    "\n",
    "\n",
    "\n",
    "<img src=\"./resources/subway_waiting.png\" width=\"400px\">"
   ]
  },
  {
   "cell_type": "code",
   "execution_count": 45,
   "metadata": {},
   "outputs": [
    {
     "name": "stdout",
     "output_type": "stream",
     "text": [
      "15.0\n"
     ]
    }
   ],
   "source": [
    "# 1\n",
    "expected_value = (30-0)/2\n",
    "print(expected_value)"
   ]
  },
  {
   "cell_type": "code",
   "execution_count": 47,
   "metadata": {},
   "outputs": [
    {
     "data": {
      "text/plain": [
       "0.8333333333333334"
      ]
     },
     "execution_count": 47,
     "metadata": {},
     "output_type": "execute_result"
    }
   ],
   "source": [
    "#2\n",
    "p_train_within_25 = (25-0)/(30-0)\n",
    "p_train_within_25"
   ]
  },
  {
   "cell_type": "code",
   "execution_count": 38,
   "metadata": {},
   "outputs": [],
   "source": [
    "import numpy as np\n",
    "import matplotlib.pyplot as plt\n",
    "%matplotlib inline\n",
    "\n",
    "def uniform_density(theta_1, theta_2):\n",
    "    \"\"\"Theta1 is the lower bound of possible outcomes.\n",
    "       Theta2 is the upper bound of all possible outcomes.\n",
    "       We are assuming that no other values outside of these bounds are possible,\n",
    "       and that all possabilities within those bounds have equal probability of occuring.\n",
    "    \"\"\"\n",
    "    prob = 1/(theta_2 - theta_1)\n",
    "    return prob\n",
    "\n",
    "\n",
    "def plot_uniform(theta_1, theta_2):\n",
    "    y = np.linspace(start=theta_1, stop=theta_2, num=10**3)\n",
    "    plt.plot(y, [uniform_density(theta_1, theta_2) for yi in y])\n",
    "    plt.title('Uniform Probability Density Function')\n",
    "    \n"
   ]
  },
  {
   "cell_type": "code",
   "execution_count": 40,
   "metadata": {},
   "outputs": [
    {
     "data": {
      "image/png": "[encoded data removed]",
      "text/plain": [
       "<Figure size 432x288 with 1 Axes>"
      ]
     },
     "metadata": {},
     "output_type": "display_data"
    }
   ],
   "source": [
    "plot_uniform(3,30)"
   ]
  },
  {
   "cell_type": "markdown",
   "metadata": {},
   "source": [
    "### Example 2:\n",
    "\n",
    "The MTA has taken a poll to determine if they should get a station llamas as a way to boost morale of commuters. 60% of commuters are in favor of this proposal, with a 10% +/- margin for error. \n",
    "\n",
    "* What is the probability that the actual amount of positive responses is 55%?\n",
    "* What is the probability that the actual amount of positive responses is greater than 60%?\n",
    "* What is the probability that the actual amount of positive responses is between 54% and 63%?\n",
    "\n",
    "<img src=\".resources/llamas.jpg\" width=\"200px\">"
   ]
  },
  {
   "cell_type": "code",
   "execution_count": 49,
   "metadata": {},
   "outputs": [],
   "source": [
    "#1 : 0\n",
    "#2 : 50%\n",
    "#3 : (63-54)/(70-50) = 0.45\n"
   ]
  },
  {
   "cell_type": "markdown",
   "metadata": {},
   "source": [
    "## Exponential Distribution"
   ]
  },
  {
   "cell_type": "markdown",
   "metadata": {},
   "source": [
    "Continuous probability distribution that has proven to be a useful model for the distribution of “time to arrival” outcomes.\n",
    "\n",
    "Examples: \n",
    "\n",
    "* How long until someone gets a call at a call center?\n",
    "\n",
    "* How long before a taxi shows up given an average rate of taxis passing a corner?\n",
    "\n",
    "PDF : $Pr(X=x) = \\lambda e^{-\\lambda x}, \\text{ for } x \\in (0, \\infty)$\n",
    "\n",
    "$E[X] = \\frac{1}{\\lambda}$\n",
    "\n",
    "$Var(X) = \\frac{1}{\\lambda^2}$\n",
    "\n",
    "CDF : $1 −  e^{−\\lambda x}$"
   ]
  },
  {
   "cell_type": "markdown",
   "metadata": {},
   "source": [
    "### Example 1:\n",
    "\n",
    "Fast forward a year, and New York is the leader in llama-based therapy animals in the subway. Things are going great, however now that they've reached a critical mass, they are chewing on the wires of the trains causing parts to fail. Since the new llama policy has been implemented the average amount of time until a train part fails is 20 minutes. The amount of time until a train part fails follows an exponential distribution.\n",
    "\n",
    "\n",
    "* What is the probability that a train part will fail within 10 minutes?\n",
    "\n",
    "<img src=\"./resources/crazed_llama.jpg\" width=\"200px\">\n"
   ]
  },
  {
   "cell_type": "code",
   "execution_count": 54,
   "metadata": {},
   "outputs": [],
   "source": [
    "#1 - np.exp((-.05*10) "
   ]
  },
  {
   "cell_type": "code",
   "execution_count": 42,
   "metadata": {},
   "outputs": [],
   "source": [
    "def plot_exponential(lam, start = 10,stop=20 ):\n",
    "    x = np.linspace(start = start, stop=stop, num=10**3)\n",
    "    y = lam * np.exp(-lam * x) # could also use stats.expon.pdf\n",
    "    plt.plot(x,y)\n",
    "    plt.title('Exponential: $\\lambda$ =%.2f' % lam)\n",
    "    plt.xlabel('x')\n",
    "    plt.ylabel('Probability density')\n",
    "    plt.show()\n"
   ]
  },
  {
   "cell_type": "code",
   "execution_count": 43,
   "metadata": {},
   "outputs": [
    {
     "data": {
      "image/png": "[encoded data removed]",
      "text/plain": [
       "<Figure size 432x288 with 1 Axes>"
      ]
     },
     "metadata": {},
     "output_type": "display_data"
    }
   ],
   "source": [
    "plot_exponential(0.2)"
   ]
  },
  {
   "cell_type": "markdown",
   "metadata": {},
   "source": [
    "### Example 2:\n",
    "\n",
    "It's five years after the policy has been passed and the streets of New York are overrun with llamas and people are now afraid to leave their homes. People now spend almost all of their time on their personal computers, which last an average of 8 years before breaking.\n",
    "\n",
    "* What is the probability of a computer lasting 8 - 12 years?\n",
    "* 70% of computers will last at most how long?\n",
    "\n",
    "<img src=\"./resources/llama_attack.jpg\" width=\"200px\" >"
   ]
  },
  {
   "cell_type": "markdown",
   "metadata": {},
   "source": [
    "## One last thing...\n",
    "\n",
    "You can also use beta as a value to model the distribution"
   ]
  },
  {
   "cell_type": "code",
   "execution_count": 50,
   "metadata": {},
   "outputs": [
    {
     "data": {
      "text/plain": [
       "Text(0.5,1,'Sample gamma Distribution with alpha = 1')"
      ]
     },
     "execution_count": 50,
     "metadata": {},
     "output_type": "execute_result"
    },
    {
     "data": {
      "image/png": "[encoded data removed]",
      "text/plain": [
       "<Figure size 432x288 with 1 Axes>"
      ]
     },
     "metadata": {},
     "output_type": "display_data"
    }
   ],
   "source": [
    "import math\n",
    "def gamma(alpha):\n",
    "    return math.factorial(alpha-1)\n",
    "def gamma_dist(y, alpha, beta):\n",
    "    num_t1 = y**(alpha-1) \n",
    "    num_t2 = np.e**(-y/beta)\n",
    "    num = num_t1*num_t2\n",
    "    den = (beta**alpha)*gamma(alpha)\n",
    "    return num/den\n",
    "\n",
    "y = np.linspace(start = 0, stop=20, num=10**3)\n",
    "# for a in [1,2,4]:\n",
    "#     plt.plot(y, [gamma_dist(yi, alpha = a, beta=1) for yi in y], label='Alpha={}'.format(a))\n",
    "plt.plot(y,gamma_dist(y, alpha = 1, beta=5))\n",
    "plt.title('Sample gamma Distribution with alpha = 1')"
   ]
  }
 ],
 "metadata": {
  "kernelspec": {
   "display_name": "Python 3",
   "language": "python",
   "name": "python3"
  },
  "language_info": {
   "codemirror_mode": {
    "name": "ipython",
    "version": 3
   },
   "file_extension": ".py",
   "mimetype": "text/x-python",
   "name": "python",
   "nbconvert_exporter": "python",
   "pygments_lexer": "ipython3",
   "version": "3.6.5"
  }
 },
 "nbformat": 4,
 "nbformat_minor": 2
}
